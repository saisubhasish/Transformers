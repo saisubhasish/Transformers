{
  "cells": [
    {
      "cell_type": "code",
      "source": [
        "%cd /content/drive/MyDrive/NLP/Transformers"
      ],
      "metadata": {
        "colab": {
          "base_uri": "https://localhost:8080/"
        },
        "id": "nUM8LSOLGzXH",
        "outputId": "03991033-f4b6-4c1c-d594-4c9c6629e68c"
      },
      "execution_count": 1,
      "outputs": [
        {
          "output_type": "stream",
          "name": "stdout",
          "text": [
            "/content/drive/MyDrive/NLP/Transformers\n"
          ]
        }
      ]
    },
    {
      "cell_type": "code",
      "execution_count": 2,
      "metadata": {
        "colab": {
          "base_uri": "https://localhost:8080/"
        },
        "id": "LhfUnrThU_yh",
        "outputId": "0dff9405-8436-441f-8e90-7b5b19e49aec"
      },
      "outputs": [
        {
          "output_type": "stream",
          "name": "stdout",
          "text": [
            "No module named 'transformer'\n",
            "installing...\n"
          ]
        }
      ],
      "source": [
        "try:\n",
        "  from transformer import pipeline\n",
        "except Exception as e:\n",
        "  print(e)\n",
        "  print(\"installing...\")\n",
        "  !pip install datasets transformers[sentencepiece] -q\n",
        "  from transformers import pipeline"
      ]
    },
    {
      "cell_type": "code",
      "execution_count": 3,
      "metadata": {
        "id": "inEQ3RUjVFVg"
      },
      "outputs": [],
      "source": [
        "import torch\n",
        "from transformers import AdamW, AutoTokenizer, AutoModelForSequenceClassification"
      ]
    },
    {
      "cell_type": "code",
      "execution_count": 4,
      "metadata": {
        "colab": {
          "base_uri": "https://localhost:8080/"
        },
        "id": "I-MiS3x8WMIR",
        "outputId": "e4503105-adc7-416a-f417-6f3be35997c5"
      },
      "outputs": [
        {
          "output_type": "stream",
          "name": "stderr",
          "text": [
            "Some weights of the model checkpoint at bert-base-uncased were not used when initializing BertForSequenceClassification: ['cls.predictions.transform.LayerNorm.bias', 'cls.predictions.transform.dense.bias', 'cls.predictions.transform.dense.weight', 'cls.seq_relationship.bias', 'cls.predictions.transform.LayerNorm.weight', 'cls.predictions.bias', 'cls.seq_relationship.weight']\n",
            "- This IS expected if you are initializing BertForSequenceClassification from the checkpoint of a model trained on another task or with another architecture (e.g. initializing a BertForSequenceClassification model from a BertForPreTraining model).\n",
            "- This IS NOT expected if you are initializing BertForSequenceClassification from the checkpoint of a model that you expect to be exactly identical (initializing a BertForSequenceClassification model from a BertForSequenceClassification model).\n",
            "Some weights of BertForSequenceClassification were not initialized from the model checkpoint at bert-base-uncased and are newly initialized: ['classifier.bias', 'classifier.weight']\n",
            "You should probably TRAIN this model on a down-stream task to be able to use it for predictions and inference.\n"
          ]
        }
      ],
      "source": [
        "ckpt = \"bert-base-uncased\"\n",
        "tokenizer = AutoTokenizer.from_pretrained(ckpt)\n",
        "model = AutoModelForSequenceClassification.from_pretrained(ckpt)"
      ]
    },
    {
      "cell_type": "code",
      "execution_count": 5,
      "metadata": {
        "id": "QvPnVzU7pMkW"
      },
      "outputs": [],
      "source": [
        "example = [\"I've been exploring Transformers for Natural Language Processing\",\n",
        "           \"I've been exploring Transformers\"\n",
        "]"
      ]
    },
    {
      "cell_type": "code",
      "execution_count": 6,
      "metadata": {
        "colab": {
          "base_uri": "https://localhost:8080/"
        },
        "id": "Edh0F5vNpcWr",
        "outputId": "4595cee5-6bf1-46b0-d04e-3607c475ca26"
      },
      "outputs": [
        {
          "output_type": "execute_result",
          "data": {
            "text/plain": [
              "{'input_ids': tensor([[  101,  1045,  1005,  2310,  2042, 11131, 19081,  2005,  3019,  2653,\n",
              "          6364,   102],\n",
              "        [  101,  1045,  1005,  2310,  2042, 11131, 19081,   102,     0,     0,\n",
              "             0,     0]]), 'token_type_ids': tensor([[0, 0, 0, 0, 0, 0, 0, 0, 0, 0, 0, 0],\n",
              "        [0, 0, 0, 0, 0, 0, 0, 0, 0, 0, 0, 0]]), 'attention_mask': tensor([[1, 1, 1, 1, 1, 1, 1, 1, 1, 1, 1, 1],\n",
              "        [1, 1, 1, 1, 1, 1, 1, 1, 0, 0, 0, 0]])}"
            ]
          },
          "metadata": {},
          "execution_count": 6
        }
      ],
      "source": [
        "batch = tokenizer(example, padding=True, return_tensors='pt')\n",
        "batch"
      ]
    },
    {
      "cell_type": "code",
      "execution_count": 7,
      "metadata": {
        "colab": {
          "base_uri": "https://localhost:8080/"
        },
        "id": "RTRaI2-3poAH",
        "outputId": "b71b8f74-f461-410d-f01b-2ba524eb9029"
      },
      "outputs": [
        {
          "output_type": "execute_result",
          "data": {
            "text/plain": [
              "{'input_ids': tensor([[  101,  1045,  1005,  2310,  2042, 11131, 19081,  2005,  3019,  2653,\n",
              "          6364,   102],\n",
              "        [  101,  1045,  1005,  2310,  2042, 11131, 19081,   102,     0,     0,\n",
              "             0,     0]]), 'token_type_ids': tensor([[0, 0, 0, 0, 0, 0, 0, 0, 0, 0, 0, 0],\n",
              "        [0, 0, 0, 0, 0, 0, 0, 0, 0, 0, 0, 0]]), 'attention_mask': tensor([[1, 1, 1, 1, 1, 1, 1, 1, 1, 1, 1, 1],\n",
              "        [1, 1, 1, 1, 1, 1, 1, 1, 0, 0, 0, 0]])}"
            ]
          },
          "metadata": {},
          "execution_count": 7
        }
      ],
      "source": [
        "batch"
      ]
    },
    {
      "cell_type": "code",
      "execution_count": 8,
      "metadata": {
        "id": "WsxSPKA-prwP"
      },
      "outputs": [],
      "source": [
        "batch['labels'] = torch.tensor([1,1])"
      ]
    },
    {
      "cell_type": "code",
      "execution_count": 9,
      "metadata": {
        "colab": {
          "base_uri": "https://localhost:8080/"
        },
        "id": "Ze2G_whhqotZ",
        "outputId": "535a74d1-1ef3-4471-ddf2-22b4afe06f15"
      },
      "outputs": [
        {
          "output_type": "stream",
          "name": "stderr",
          "text": [
            "/usr/local/lib/python3.10/dist-packages/transformers/optimization.py:391: FutureWarning: This implementation of AdamW is deprecated and will be removed in a future version. Use the PyTorch implementation torch.optim.AdamW instead, or set `no_deprecation_warning=True` to disable this warning\n",
            "  warnings.warn(\n"
          ]
        }
      ],
      "source": [
        "optimizer = AdamW(model.parameters())\n",
        "loss = model(**batch).loss\n",
        "loss.backward()\n",
        "optimizer.step()"
      ]
    },
    {
      "cell_type": "code",
      "execution_count": 10,
      "metadata": {
        "id": "LWeS3Tqtq_8n"
      },
      "outputs": [],
      "source": [
        "# doenloading the dataset\n",
        "\n",
        "from datasets import load_dataset"
      ]
    },
    {
      "cell_type": "code",
      "execution_count": 11,
      "metadata": {
        "colab": {
          "base_uri": "https://localhost:8080/"
        },
        "id": "f6kMNRe8rn7m",
        "outputId": "34e03fa3-656c-4192-9703-44eacd58f06d"
      },
      "outputs": [
        {
          "output_type": "execute_result",
          "data": {
            "text/plain": [
              "DatasetDict({\n",
              "    train: Dataset({\n",
              "        features: ['sentence1', 'sentence2', 'label', 'idx'],\n",
              "        num_rows: 3668\n",
              "    })\n",
              "    validation: Dataset({\n",
              "        features: ['sentence1', 'sentence2', 'label', 'idx'],\n",
              "        num_rows: 408\n",
              "    })\n",
              "    test: Dataset({\n",
              "        features: ['sentence1', 'sentence2', 'label', 'idx'],\n",
              "        num_rows: 1725\n",
              "    })\n",
              "})"
            ]
          },
          "metadata": {},
          "execution_count": 11
        }
      ],
      "source": [
        "raw_dataset = load_dataset(\"glue\", \"mrpc\")\n",
        "raw_dataset"
      ]
    },
    {
      "cell_type": "code",
      "execution_count": 12,
      "metadata": {
        "colab": {
          "base_uri": "https://localhost:8080/"
        },
        "id": "RZ3PfWyLsNOt",
        "outputId": "494fe8f8-f324-42cc-bddd-d8dadb0e5152"
      },
      "outputs": [
        {
          "output_type": "stream",
          "name": "stdout",
          "text": [
            "downloads\n",
            "glue\n",
            "_root_.cache_huggingface_datasets_glue_mrpc_1.0.0_dacbe3125aa31d7f70367a07a8a9e72a5a0bfeb5fc42e75c9db75b96da6053ad.lock\n"
          ]
        }
      ],
      "source": [
        "!ls ~/.cache/huggingface/datasets"
      ]
    },
    {
      "cell_type": "code",
      "execution_count": 13,
      "metadata": {
        "colab": {
          "base_uri": "https://localhost:8080/"
        },
        "id": "oM5i5PmvsesL",
        "outputId": "74ce0d38-b90c-4ca6-8824-5cdb6a2be484"
      },
      "outputs": [
        {
          "output_type": "execute_result",
          "data": {
            "text/plain": [
              "Dataset({\n",
              "    features: ['sentence1', 'sentence2', 'label', 'idx'],\n",
              "    num_rows: 3668\n",
              "})"
            ]
          },
          "metadata": {},
          "execution_count": 13
        }
      ],
      "source": [
        "raw_dataset_train = raw_dataset['train']\n",
        "raw_dataset_train"
      ]
    },
    {
      "cell_type": "code",
      "execution_count": 14,
      "metadata": {
        "colab": {
          "base_uri": "https://localhost:8080/"
        },
        "id": "VpnAbu52smMs",
        "outputId": "02cb5e93-34a3-4ab8-c380-39b78eda62d6"
      },
      "outputs": [
        {
          "output_type": "execute_result",
          "data": {
            "text/plain": [
              "{'sentence1': Value(dtype='string', id=None),\n",
              " 'sentence2': Value(dtype='string', id=None),\n",
              " 'label': ClassLabel(names=['not_equivalent', 'equivalent'], id=None),\n",
              " 'idx': Value(dtype='int32', id=None)}"
            ]
          },
          "metadata": {},
          "execution_count": 14
        }
      ],
      "source": [
        "raw_dataset_train.features"
      ]
    },
    {
      "cell_type": "code",
      "execution_count": 15,
      "metadata": {
        "id": "kkGaxWuLtSuv"
      },
      "outputs": [],
      "source": [
        "from transformers import AutoTokenizer"
      ]
    },
    {
      "cell_type": "code",
      "execution_count": 16,
      "metadata": {
        "id": "KHhJjp71teIo"
      },
      "outputs": [],
      "source": [
        "ckpt = \"bert-base-uncased\"\n",
        "tokenizer = AutoTokenizer.from_pretrained(ckpt)"
      ]
    },
    {
      "cell_type": "code",
      "execution_count": 17,
      "metadata": {
        "id": "Lz37gHfUtpPo"
      },
      "outputs": [],
      "source": [
        "tokenized_sentense_1 = tokenizer(raw_dataset['train']['sentence1'])\n",
        "tokenized_sentense_2 = tokenizer(raw_dataset['train']['sentence2'])"
      ]
    },
    {
      "cell_type": "code",
      "execution_count": 18,
      "metadata": {
        "colab": {
          "base_uri": "https://localhost:8080/"
        },
        "id": "hMVbrzDjt25p",
        "outputId": "68aa4960-0b26-4710-e7dc-cc7f9f9ee50e"
      },
      "outputs": [
        {
          "output_type": "execute_result",
          "data": {
            "text/plain": [
              "{'input_ids': [101, 6251, 2028, 102, 6251, 2048, 102], 'token_type_ids': [0, 0, 0, 0, 1, 1, 1], 'attention_mask': [1, 1, 1, 1, 1, 1, 1]}"
            ]
          },
          "metadata": {},
          "execution_count": 18
        }
      ],
      "source": [
        "tokenizer(\"Sentence one\", \"Sentence two\")"
      ]
    },
    {
      "cell_type": "code",
      "execution_count": 19,
      "metadata": {
        "id": "pDPOmSetuTCC"
      },
      "outputs": [],
      "source": [
        "def tokenizer_func(example):\n",
        "  return tokenizer(\n",
        "      example['sentence1'],\n",
        "      example['sentence2'],\n",
        "      truncation=True)"
      ]
    },
    {
      "cell_type": "code",
      "execution_count": 20,
      "metadata": {
        "colab": {
          "base_uri": "https://localhost:8080/",
          "height": 113,
          "referenced_widgets": [
            "a50c3582778b49d497cee9b2c1a4cf45",
            "231993ba36994f82959be34cf89e2951",
            "708e8786d1c844379dbbdd64de28b272",
            "ae2c8f8f2887425fbddf827164742c9c",
            "de05ced7936c4d838a320a013b94152f",
            "9f1f594a1352417489b9dd25ee5e1faa",
            "c1b3a7a2e6594b56b184d604e2f0a197",
            "d1393f25ab97457bacbdb5b6171692ad",
            "25dbe1c2f06641fab996b0237457f2a7",
            "439948a1570e49afaa2bb136c7cd0640",
            "22defeb210c840cfbcf73def1460032b",
            "dace6e0486a0444db72b14543f2c8a1a",
            "43996fad60714f25b031cb7b840cbb67",
            "41683767a5a3440d8bd98363b8def47b",
            "fbd9fa5a3aa04f7ca7ea1c34e2eb0d33",
            "ff556fc6beac437ba9fe1e637a462613",
            "9437fedb51a743f095d4853b4b8c5585",
            "58c4790c5e184d14ab754d856d5dbf01",
            "4d8d5093362a45ffa34495655e3f17f4",
            "b3455b3cdb91407ba0a2c332df42eb8c",
            "8cde8c1b2f634ddfab0adfc3cd574a0b",
            "1134e1a724b7448aae267ef818dfeefd",
            "b150e669276547d7a02f5c197cbdedb0",
            "dab283cb585f45a5b705c1b5b66c133c",
            "080c1bca19d1486880fec79c4fab8710",
            "c5cfb97005c5454c8cf91279ce1d74eb",
            "d6c392a600354414a696af71a899228f",
            "6d9bb476965b4de09943f112588b757b",
            "6b41171bc51040dca9eecd5b12993424",
            "2e9637d9e8bb4e8ea8ef4fb3f6c79e31",
            "ce647a69afe545d381a7aa799acd9bc3",
            "a1fdc3e9e97d405581fe34997e4661e3",
            "2c1c788060e1491ea27a480f8fe6a9ac"
          ]
        },
        "id": "Xo5tkR9mugSZ",
        "outputId": "384ff319-9014-4e9d-c7f8-036ee2994bb0"
      },
      "outputs": [
        {
          "output_type": "display_data",
          "data": {
            "text/plain": [
              "Map:   0%|          | 0/3668 [00:00<?, ? examples/s]"
            ],
            "application/vnd.jupyter.widget-view+json": {
              "version_major": 2,
              "version_minor": 0,
              "model_id": "a50c3582778b49d497cee9b2c1a4cf45"
            }
          },
          "metadata": {}
        },
        {
          "output_type": "display_data",
          "data": {
            "text/plain": [
              "Map:   0%|          | 0/408 [00:00<?, ? examples/s]"
            ],
            "application/vnd.jupyter.widget-view+json": {
              "version_major": 2,
              "version_minor": 0,
              "model_id": "dace6e0486a0444db72b14543f2c8a1a"
            }
          },
          "metadata": {}
        },
        {
          "output_type": "display_data",
          "data": {
            "text/plain": [
              "Map:   0%|          | 0/1725 [00:00<?, ? examples/s]"
            ],
            "application/vnd.jupyter.widget-view+json": {
              "version_major": 2,
              "version_minor": 0,
              "model_id": "b150e669276547d7a02f5c197cbdedb0"
            }
          },
          "metadata": {}
        }
      ],
      "source": [
        "tokenized_dataset = raw_dataset.map(tokenizer_func, batched=True)"
      ]
    },
    {
      "cell_type": "code",
      "execution_count": 21,
      "metadata": {
        "id": "VfRwcfjxwaDN"
      },
      "outputs": [],
      "source": [
        "# Dynamic Padding\n"
      ]
    },
    {
      "cell_type": "code",
      "execution_count": 22,
      "metadata": {
        "id": "QfefvUa0xN_T"
      },
      "outputs": [],
      "source": [
        "from transformers import DataCollatorWithPadding"
      ]
    },
    {
      "cell_type": "code",
      "execution_count": 23,
      "metadata": {
        "id": "H2CLgLszxd-x"
      },
      "outputs": [],
      "source": [
        "data_collator = DataCollatorWithPadding(tokenizer=tokenizer)"
      ]
    },
    {
      "cell_type": "code",
      "execution_count": 24,
      "metadata": {
        "id": "BaIe56kVxrcp"
      },
      "outputs": [],
      "source": [
        "# Training\n"
      ]
    },
    {
      "cell_type": "code",
      "execution_count": 25,
      "metadata": {
        "id": "yQaWOI18yOSY"
      },
      "outputs": [],
      "source": [
        "from transformers import TrainingArguments\n",
        "\n",
        "try:\n",
        "  training_args = TrainingArguments(\"test-trainer\")\n",
        "  training_args\n",
        "except:\n",
        "  !pip install accelerate==0.20.1\n",
        "  training_args = TrainingArguments(\"test-trainer\")\n",
        "  training_args"
      ]
    },
    {
      "cell_type": "code",
      "execution_count": 26,
      "metadata": {
        "colab": {
          "base_uri": "https://localhost:8080/",
          "height": 36
        },
        "id": "IWYc9FGR18CL",
        "outputId": "8638fe52-ae92-4d0e-af05-8215d6c779c0"
      },
      "outputs": [
        {
          "output_type": "execute_result",
          "data": {
            "text/plain": [
              "'bert-base-uncased'"
            ],
            "application/vnd.google.colaboratory.intrinsic+json": {
              "type": "string"
            }
          },
          "metadata": {},
          "execution_count": 26
        }
      ],
      "source": [
        "ckpt"
      ]
    },
    {
      "cell_type": "code",
      "execution_count": 27,
      "metadata": {
        "colab": {
          "base_uri": "https://localhost:8080/"
        },
        "id": "sDp7S94c1pGk",
        "outputId": "28ed619d-cf8b-45c8-da19-3be87453566d"
      },
      "outputs": [
        {
          "output_type": "stream",
          "name": "stderr",
          "text": [
            "Some weights of the model checkpoint at bert-base-uncased were not used when initializing BertForSequenceClassification: ['cls.predictions.transform.LayerNorm.bias', 'cls.predictions.transform.dense.bias', 'cls.predictions.transform.dense.weight', 'cls.seq_relationship.bias', 'cls.predictions.transform.LayerNorm.weight', 'cls.predictions.bias', 'cls.seq_relationship.weight']\n",
            "- This IS expected if you are initializing BertForSequenceClassification from the checkpoint of a model trained on another task or with another architecture (e.g. initializing a BertForSequenceClassification model from a BertForPreTraining model).\n",
            "- This IS NOT expected if you are initializing BertForSequenceClassification from the checkpoint of a model that you expect to be exactly identical (initializing a BertForSequenceClassification model from a BertForSequenceClassification model).\n",
            "Some weights of BertForSequenceClassification were not initialized from the model checkpoint at bert-base-uncased and are newly initialized: ['classifier.bias', 'classifier.weight']\n",
            "You should probably TRAIN this model on a down-stream task to be able to use it for predictions and inference.\n"
          ]
        }
      ],
      "source": [
        "from transformers import AutoModelForSequenceClassification\n",
        "\n",
        "model = AutoModelForSequenceClassification.from_pretrained(ckpt, num_labels=2)"
      ]
    },
    {
      "cell_type": "code",
      "execution_count": 28,
      "metadata": {
        "id": "a5aa4lFDye9U"
      },
      "outputs": [],
      "source": [
        "from transformers import Trainer\n",
        "\n",
        "\n",
        "trainer = Trainer(\n",
        "    model,\n",
        "    training_args,\n",
        "    train_dataset=tokenized_dataset[\"train\"],\n",
        "    eval_dataset=tokenized_dataset['validation'],\n",
        "    data_collator=data_collator,\n",
        "    tokenizer=tokenizer\n",
        ")"
      ]
    },
    {
      "cell_type": "code",
      "execution_count": 29,
      "metadata": {
        "colab": {
          "base_uri": "https://localhost:8080/",
          "height": 210
        },
        "id": "j1jdSlXn15Pd",
        "outputId": "7b5303bb-d2b5-45ba-afb2-d4169dc886e9"
      },
      "outputs": [
        {
          "output_type": "stream",
          "name": "stderr",
          "text": [
            "You're using a BertTokenizerFast tokenizer. Please note that with a fast tokenizer, using the `__call__` method is faster than using a method to encode the text followed by a call to the `pad` method to get a padded encoding.\n"
          ]
        },
        {
          "output_type": "display_data",
          "data": {
            "text/plain": [
              "<IPython.core.display.HTML object>"
            ],
            "text/html": [
              "\n",
              "    <div>\n",
              "      \n",
              "      <progress value='1377' max='1377' style='width:300px; height:20px; vertical-align: middle;'></progress>\n",
              "      [1377/1377 2:31:22, Epoch 3/3]\n",
              "    </div>\n",
              "    <table border=\"1\" class=\"dataframe\">\n",
              "  <thead>\n",
              " <tr style=\"text-align: left;\">\n",
              "      <th>Step</th>\n",
              "      <th>Training Loss</th>\n",
              "    </tr>\n",
              "  </thead>\n",
              "  <tbody>\n",
              "    <tr>\n",
              "      <td>500</td>\n",
              "      <td>0.599900</td>\n",
              "    </tr>\n",
              "    <tr>\n",
              "      <td>1000</td>\n",
              "      <td>0.447800</td>\n",
              "    </tr>\n",
              "  </tbody>\n",
              "</table><p>"
            ]
          },
          "metadata": {}
        },
        {
          "output_type": "execute_result",
          "data": {
            "text/plain": [
              "TrainOutput(global_step=1377, training_loss=0.4651925911830661, metrics={'train_runtime': 9101.6367, 'train_samples_per_second': 1.209, 'train_steps_per_second': 0.151, 'total_flos': 406183858377360.0, 'train_loss': 0.4651925911830661, 'epoch': 3.0})"
            ]
          },
          "metadata": {},
          "execution_count": 29
        }
      ],
      "source": [
        "trainer.train()"
      ]
    },
    {
      "cell_type": "code",
      "execution_count": 39,
      "metadata": {
        "colab": {
          "base_uri": "https://localhost:8080/",
          "height": 1000
        },
        "id": "xKBMXT6T2ylm",
        "outputId": "4f455aa4-b9e5-4cc8-8b0e-a3b41cd771ba"
      },
      "outputs": [
        {
          "output_type": "display_data",
          "data": {
            "text/plain": [
              "<IPython.core.display.HTML object>"
            ],
            "text/html": []
          },
          "metadata": {}
        },
        {
          "output_type": "execute_result",
          "data": {
            "text/plain": [
              "PredictionOutput(predictions=array([[-2.0216947 ,  2.6161642 ],\n",
              "       [ 1.3770725 , -1.5489072 ],\n",
              "       [ 0.54202986, -0.3131326 ],\n",
              "       [-1.8087684 ,  2.297847  ],\n",
              "       [ 1.4334191 , -1.6186483 ],\n",
              "       [-1.8798934 ,  2.4924774 ],\n",
              "       [-1.8771794 ,  2.4536123 ],\n",
              "       [-1.970054  ,  2.5779216 ],\n",
              "       [-1.2400187 ,  1.3722745 ],\n",
              "       [-1.8581765 ,  2.4555893 ],\n",
              "       [-2.0280185 ,  2.6173038 ],\n",
              "       [ 1.437205  , -1.6222988 ],\n",
              "       [ 1.161532  , -1.2929114 ],\n",
              "       [-1.8549104 ,  2.4241087 ],\n",
              "       [-2.025151  ,  2.5957048 ],\n",
              "       [-1.0138761 ,  0.8670487 ],\n",
              "       [-2.0258167 ,  2.601831  ],\n",
              "       [ 1.1187184 , -1.2246493 ],\n",
              "       [-2.0261574 ,  2.6018474 ],\n",
              "       [ 1.1748844 , -1.3093845 ],\n",
              "       [ 1.2570518 , -1.4047494 ],\n",
              "       [-0.19572961, -0.3293346 ],\n",
              "       [-0.06728968, -0.5119922 ],\n",
              "       [-2.0162687 ,  2.612826  ],\n",
              "       [-2.0185225 ,  2.614506  ],\n",
              "       [-1.1987897 ,  1.3092505 ],\n",
              "       [-1.8222615 ,  2.4105935 ],\n",
              "       [-2.024727  ,  2.595037  ],\n",
              "       [-1.865794  ,  2.437914  ],\n",
              "       [-1.9138198 ,  2.5321631 ],\n",
              "       [ 0.8067996 , -0.8240437 ],\n",
              "       [-2.0254264 ,  2.5974007 ],\n",
              "       [-2.0248184 ,  2.6129518 ],\n",
              "       [-1.8621279 ,  2.4596617 ],\n",
              "       [-2.0186143 ,  2.6164575 ],\n",
              "       [-0.5730603 ,  0.45560598],\n",
              "       [ 1.1857026 , -1.1640096 ],\n",
              "       [ 1.4279612 , -1.6102175 ],\n",
              "       [-1.906003  ,  2.525671  ],\n",
              "       [-2.0243392 ,  2.5945873 ],\n",
              "       [ 1.3535796 , -1.5242015 ],\n",
              "       [-1.8865619 ,  2.4911172 ],\n",
              "       [-0.2634646 , -0.25264278],\n",
              "       [ 1.2979381 , -1.399923  ],\n",
              "       [ 1.1448637 , -1.2702227 ],\n",
              "       [-2.0249472 ,  2.602429  ],\n",
              "       [-1.8824185 ,  2.4897022 ],\n",
              "       [ 1.402537  , -1.5868379 ],\n",
              "       [-1.8520662 ,  2.4559927 ],\n",
              "       [-1.934025  ,  2.545934  ],\n",
              "       [-1.8647802 ,  2.4315062 ],\n",
              "       [-1.8686832 ,  2.449505  ],\n",
              "       [-1.8776282 ,  2.4645019 ],\n",
              "       [-1.8753536 ,  2.4877138 ],\n",
              "       [-1.5073441 ,  1.6707423 ],\n",
              "       [-2.0159962 ,  2.6157904 ],\n",
              "       [ 1.0365937 , -1.0806524 ],\n",
              "       [-1.9051422 ,  2.5291696 ],\n",
              "       [-1.8997706 ,  2.5133345 ],\n",
              "       [-1.8693411 ,  2.4287906 ],\n",
              "       [-1.3998481 ,  1.6005815 ],\n",
              "       [ 1.45867   , -1.635832  ],\n",
              "       [-2.0258112 ,  2.6086655 ],\n",
              "       [-1.889748  ,  2.4669924 ],\n",
              "       [-1.8436233 ,  2.44455   ],\n",
              "       [ 1.0968117 , -1.1989287 ],\n",
              "       [-2.0245109 ,  2.5975885 ],\n",
              "       [-2.0256953 ,  2.5986714 ],\n",
              "       [ 0.6182652 , -0.6179981 ],\n",
              "       [-1.9052013 ,  2.5284688 ],\n",
              "       [-2.0263944 ,  2.6076527 ],\n",
              "       [ 0.36568758, -0.33124557],\n",
              "       [-2.025746  ,  2.6001382 ],\n",
              "       [-1.891702  ,  2.5019517 ],\n",
              "       [-1.8753608 ,  2.4576354 ],\n",
              "       [-1.8822768 ,  2.4844718 ],\n",
              "       [-1.8615967 ,  2.42946   ],\n",
              "       [-2.0233128 ,  2.6151    ],\n",
              "       [-1.911935  ,  2.5263166 ],\n",
              "       [-1.9063494 ,  2.5020401 ],\n",
              "       [-1.1406506 ,  1.2660619 ],\n",
              "       [-1.8763798 ,  2.446495  ],\n",
              "       [-2.0081968 ,  2.6087036 ],\n",
              "       [ 1.3634626 , -1.5067407 ],\n",
              "       [-2.025604  ,  2.6010773 ],\n",
              "       [ 0.75824565, -0.79608345],\n",
              "       [-1.9117492 ,  2.5062823 ],\n",
              "       [-0.30922565, -0.137257  ],\n",
              "       [-1.8971912 ,  2.5095294 ],\n",
              "       [-2.0238829 ,  2.591236  ],\n",
              "       [-1.8965124 ,  2.4912143 ],\n",
              "       [-1.8922683 ,  2.5135317 ],\n",
              "       [-2.0177143 ,  2.616093  ],\n",
              "       [-1.9317664 ,  2.5565355 ],\n",
              "       [-2.015215  ,  2.6151705 ],\n",
              "       [-2.0244467 ,  2.6010828 ],\n",
              "       [ 1.1671091 , -1.2447532 ],\n",
              "       [-1.8127586 ,  2.4148667 ],\n",
              "       [-1.8968786 ,  2.4893336 ],\n",
              "       [-1.89707   ,  2.5065014 ],\n",
              "       [-1.9009683 ,  2.483114  ],\n",
              "       [-1.2031361 ,  1.294774  ],\n",
              "       [-1.8332001 ,  2.4223187 ],\n",
              "       [-2.0235515 ,  2.615436  ],\n",
              "       [ 0.9372503 , -1.0462098 ],\n",
              "       [-1.9510282 ,  2.571506  ],\n",
              "       [-0.76471   ,  0.5355028 ],\n",
              "       [ 1.4041735 , -1.5639608 ],\n",
              "       [ 1.1245447 , -1.2920281 ],\n",
              "       [-2.0094852 ,  2.6100345 ],\n",
              "       [ 1.0473646 , -1.0703582 ],\n",
              "       [-1.9164011 ,  2.5437841 ],\n",
              "       [-1.9123019 ,  2.5145297 ],\n",
              "       [-2.0239804 ,  2.5915158 ],\n",
              "       [-1.6849103 ,  2.0113103 ],\n",
              "       [ 1.4249972 , -1.6204253 ],\n",
              "       [-2.022659  ,  2.613801  ],\n",
              "       [-1.7106284 ,  2.0128226 ],\n",
              "       [-2.0170677 ,  2.6104012 ],\n",
              "       [-2.0252395 ,  2.6059422 ],\n",
              "       [-2.010273  ,  2.6110754 ],\n",
              "       [ 0.4122445 , -0.41664383],\n",
              "       [ 1.1902138 , -1.2769579 ],\n",
              "       [-1.9252831 ,  2.5272756 ],\n",
              "       [-2.0211008 ,  2.614458  ],\n",
              "       [-2.010254  ,  2.6134727 ],\n",
              "       [-1.8812386 ,  2.495357  ],\n",
              "       [ 1.2715408 , -1.4247576 ],\n",
              "       [-2.0244884 ,  2.5961065 ],\n",
              "       [-1.8896153 ,  2.4955494 ],\n",
              "       [-1.9153417 ,  2.5449004 ],\n",
              "       [-2.0186343 ,  2.6109595 ],\n",
              "       [-1.8107076 ,  2.4066725 ],\n",
              "       [-0.18224819, -0.3001223 ],\n",
              "       [-1.8550417 ,  2.4409099 ],\n",
              "       [-1.8834081 ,  2.464177  ],\n",
              "       [-1.307728  ,  1.446093  ],\n",
              "       [ 1.1649318 , -1.2859299 ],\n",
              "       [-2.0244498 ,  2.6032662 ],\n",
              "       [-1.9170537 ,  2.5172815 ],\n",
              "       [-2.025279  ,  2.5960898 ],\n",
              "       [ 1.34364   , -1.4587303 ],\n",
              "       [ 1.336655  , -1.4984072 ],\n",
              "       [-1.9256307 ,  2.5325413 ],\n",
              "       [ 1.4032013 , -1.5748045 ],\n",
              "       [-1.3683853 ,  1.5343057 ],\n",
              "       [-2.0244613 ,  2.5958421 ],\n",
              "       [-1.7089759 ,  2.1944075 ],\n",
              "       [ 0.8925287 , -0.9181909 ],\n",
              "       [-1.882836  ,  2.493896  ],\n",
              "       [ 1.2964014 , -1.4584514 ],\n",
              "       [-1.8555397 ,  2.4368725 ],\n",
              "       [-1.8632334 ,  2.4450383 ],\n",
              "       [-2.0252922 ,  2.6091204 ],\n",
              "       [ 1.2485578 , -1.3814718 ],\n",
              "       [-2.0161426 ,  2.6141925 ],\n",
              "       [-1.8729652 ,  2.471623  ],\n",
              "       [-1.8107868 ,  2.327015  ],\n",
              "       [ 0.7111526 , -0.9141447 ],\n",
              "       [-1.6117616 ,  1.9421299 ],\n",
              "       [-1.8214757 ,  2.4134512 ],\n",
              "       [-1.885245  ,  2.4941072 ],\n",
              "       [-2.0246367 ,  2.594643  ],\n",
              "       [-2.0158656 ,  2.614836  ],\n",
              "       [-1.9932894 ,  2.602513  ],\n",
              "       [-1.9098195 ,  2.535726  ],\n",
              "       [-1.4559094 ,  1.8319396 ],\n",
              "       [ 1.3107744 , -1.4582434 ],\n",
              "       [-1.8762935 ,  2.4856262 ],\n",
              "       [ 1.3806592 , -1.5468781 ],\n",
              "       [-0.28166726,  0.53025776],\n",
              "       [ 1.1621178 , -1.25715   ],\n",
              "       [-1.7190422 ,  2.0877004 ],\n",
              "       [-1.9017261 ,  2.5144773 ],\n",
              "       [ 1.2835635 , -1.3821672 ],\n",
              "       [-1.9013929 ,  2.501039  ],\n",
              "       [-1.8712415 ,  2.4796095 ],\n",
              "       [ 1.3180138 , -1.3750871 ],\n",
              "       [-2.0232484 ,  2.6147652 ],\n",
              "       [-2.0264578 ,  2.6164517 ],\n",
              "       [ 1.0786906 , -1.0504175 ],\n",
              "       [-1.5447652 ,  1.8118242 ],\n",
              "       [-2.0253768 ,  2.5972085 ],\n",
              "       [-2.0042865 ,  2.6063616 ],\n",
              "       [-0.74575955,  0.39577404],\n",
              "       [-1.9136515 ,  2.4981437 ],\n",
              "       [ 0.88315684, -1.0855883 ],\n",
              "       [-0.06028096, -0.5657036 ],\n",
              "       [ 1.3863153 , -1.587509  ],\n",
              "       [-2.0190525 ,  2.615394  ],\n",
              "       [-2.0229177 ,  2.6047492 ],\n",
              "       [ 1.373648  , -1.540973  ],\n",
              "       [ 1.0156218 , -1.0224941 ],\n",
              "       [-2.0248766 ,  2.607318  ],\n",
              "       [-0.51695216,  0.20759226],\n",
              "       [-1.8476862 ,  2.3686285 ],\n",
              "       [-2.0254607 ,  2.597842  ],\n",
              "       [-1.4178445 ,  1.5782477 ],\n",
              "       [-1.8348869 ,  2.4168863 ],\n",
              "       [-1.8933433 ,  2.4939253 ],\n",
              "       [-1.846419  ,  2.4427037 ],\n",
              "       [-1.8362653 ,  2.3626337 ],\n",
              "       [ 1.1389803 , -1.2422467 ],\n",
              "       [-1.8700008 ,  2.477959  ],\n",
              "       [-1.8747185 ,  2.452621  ],\n",
              "       [ 1.249741  , -1.3963828 ],\n",
              "       [-1.8718833 ,  2.4761705 ],\n",
              "       [-1.8558775 ,  2.3863957 ],\n",
              "       [ 1.3476745 , -1.5285507 ],\n",
              "       [ 1.19141   , -1.3079001 ],\n",
              "       [-0.8608958 ,  0.7559164 ],\n",
              "       [-1.940226  ,  2.5655794 ],\n",
              "       [ 1.0732034 , -1.1670321 ],\n",
              "       [ 0.88758314, -1.0320174 ],\n",
              "       [-1.9109232 ,  2.5286584 ],\n",
              "       [-2.0253055 ,  2.596208  ],\n",
              "       [-1.7467635 ,  2.068533  ],\n",
              "       [-1.9872181 ,  2.5985775 ],\n",
              "       [ 1.4164276 , -1.5468171 ],\n",
              "       [-1.8382236 ,  2.414185  ],\n",
              "       [-0.41344887, -0.05684083],\n",
              "       [-2.0025554 ,  2.6043012 ],\n",
              "       [-1.9476835 ,  2.571288  ],\n",
              "       [ 1.329198  , -1.480965  ],\n",
              "       [-2.0247946 ,  2.6138768 ],\n",
              "       [-2.0222597 ,  2.615218  ],\n",
              "       [-2.0252156 ,  2.6114721 ],\n",
              "       [-1.8418871 ,  2.3972244 ],\n",
              "       [-1.8650944 ,  2.4755478 ],\n",
              "       [-1.8718733 ,  2.4562414 ],\n",
              "       [-2.025679  ,  2.6126494 ],\n",
              "       [-2.019416  ,  2.6145663 ],\n",
              "       [ 1.1393523 , -1.164647  ],\n",
              "       [-0.8295476 ,  0.5949654 ],\n",
              "       [-1.4152896 ,  1.6190363 ],\n",
              "       [ 0.8796199 , -0.9953587 ],\n",
              "       [-1.893762  ,  2.494608  ],\n",
              "       [ 1.4801627 , -1.6556956 ],\n",
              "       [ 0.89541036, -0.9068877 ],\n",
              "       [-1.2391871 ,  1.3786978 ],\n",
              "       [-1.897413  ,  2.5140586 ],\n",
              "       [ 1.3033727 , -1.4856087 ],\n",
              "       [-1.8589562 ,  2.4525952 ],\n",
              "       [-1.8861703 ,  2.479498  ],\n",
              "       [-1.80185   ,  2.1955345 ],\n",
              "       [-2.0022562 ,  2.60464   ],\n",
              "       [-1.8104703 ,  2.3108678 ],\n",
              "       [-1.8745012 ,  2.4514341 ],\n",
              "       [-2.0245132 ,  2.614327  ],\n",
              "       [-1.894331  ,  2.4795127 ],\n",
              "       [-1.8586162 ,  2.467681  ],\n",
              "       [-1.2956995 ,  1.397015  ],\n",
              "       [-1.1922399 ,  1.3691636 ],\n",
              "       [-1.0047299 ,  0.88942915],\n",
              "       [ 1.1265056 , -1.1955727 ],\n",
              "       [ 1.4141461 , -1.5898373 ],\n",
              "       [-1.6347917 ,  1.848595  ],\n",
              "       [-1.8895291 ,  2.473009  ],\n",
              "       [-1.8846991 ,  2.4666047 ],\n",
              "       [ 1.25668   , -1.3893524 ],\n",
              "       [-1.8888191 ,  2.4871    ],\n",
              "       [-1.8750783 ,  2.4872313 ],\n",
              "       [-2.025216  ,  2.6033783 ],\n",
              "       [-0.73785836,  0.4657407 ],\n",
              "       [-1.4359242 ,  1.6260532 ],\n",
              "       [ 0.70304525, -0.79571235],\n",
              "       [-1.8955028 ,  2.495224  ],\n",
              "       [ 1.0141546 , -1.1258909 ],\n",
              "       [ 0.90813357, -0.90509194],\n",
              "       [-1.8595049 ,  2.4534907 ],\n",
              "       [ 1.3497356 , -1.5010732 ],\n",
              "       [-2.0158963 ,  2.614171  ],\n",
              "       [-1.9182069 ,  2.5538378 ],\n",
              "       [-2.0251215 ,  2.612318  ],\n",
              "       [-2.0246513 ,  2.594112  ],\n",
              "       [-2.0244136 ,  2.5944164 ],\n",
              "       [-1.8679854 ,  2.4729362 ],\n",
              "       [ 1.0733805 , -1.1551493 ],\n",
              "       [-1.8037826 ,  2.3034947 ],\n",
              "       [ 1.3766489 , -1.5202081 ],\n",
              "       [-1.8159157 ,  2.3331966 ],\n",
              "       [-1.8958956 ,  2.478919  ],\n",
              "       [-1.4264337 ,  1.6600744 ],\n",
              "       [ 1.2866472 , -1.4662203 ],\n",
              "       [-0.743053  ,  0.4515045 ],\n",
              "       [-1.9364287 ,  2.551621  ],\n",
              "       [-2.0262606 ,  2.6116197 ],\n",
              "       [-0.6418722 ,  0.2812274 ],\n",
              "       [-2.0203235 ,  2.6163847 ],\n",
              "       [ 1.1470983 , -1.2444504 ],\n",
              "       [-1.5633377 ,  1.8218852 ],\n",
              "       [ 1.225609  , -1.3279802 ],\n",
              "       [-2.0256045 ,  2.6005144 ],\n",
              "       [-1.8769363 ,  2.4535851 ],\n",
              "       [-1.8968506 ,  2.5182543 ],\n",
              "       [ 1.2057565 , -1.4122518 ],\n",
              "       [ 1.352178  , -1.507355  ],\n",
              "       [-1.8862548 ,  2.4629712 ],\n",
              "       [-2.0245404 ,  2.6086135 ],\n",
              "       [-1.8308148 ,  2.3635929 ],\n",
              "       [-2.023281  ,  2.6135364 ],\n",
              "       [-1.903184  ,  2.497871  ],\n",
              "       [-1.8797234 ,  2.483012  ],\n",
              "       [ 1.4263278 , -1.5823053 ],\n",
              "       [-1.9779593 ,  2.5890698 ],\n",
              "       [-1.9695702 ,  2.5854406 ],\n",
              "       [ 1.4101468 , -1.5628568 ],\n",
              "       [-2.0261388 ,  2.6021457 ],\n",
              "       [ 1.400455  , -1.5536768 ],\n",
              "       [-0.5642877 ,  0.09882222],\n",
              "       [-2.0267348 ,  2.6042569 ],\n",
              "       [-2.0254805 ,  2.6058884 ],\n",
              "       [-1.8512383 ,  2.401591  ],\n",
              "       [ 1.3770646 , -1.563846  ],\n",
              "       [-2.0235457 ,  2.5923839 ],\n",
              "       [ 1.4130833 , -1.5102023 ],\n",
              "       [ 1.0745655 , -1.157404  ],\n",
              "       [-1.9467537 ,  2.5586693 ],\n",
              "       [ 1.3455852 , -1.4932609 ],\n",
              "       [ 1.3967707 , -1.5131551 ],\n",
              "       [ 1.4707843 , -1.6387023 ],\n",
              "       [ 1.3445569 , -1.5154899 ],\n",
              "       [ 1.1598755 , -1.2909242 ],\n",
              "       [-1.623283  ,  1.8945937 ],\n",
              "       [ 1.2418774 , -1.3978927 ],\n",
              "       [-2.0257847 ,  2.6085782 ],\n",
              "       [-1.7861161 ,  2.2163906 ],\n",
              "       [-2.024921  ,  2.5966125 ],\n",
              "       [-1.9225103 ,  2.5158167 ],\n",
              "       [-1.6883363 ,  2.0288918 ],\n",
              "       [-2.019094  ,  2.6155667 ],\n",
              "       [-2.012301  ,  2.6141138 ],\n",
              "       [-2.0218487 ,  2.6150224 ],\n",
              "       [-1.328578  ,  1.5146034 ],\n",
              "       [-2.025126  ,  2.5952373 ],\n",
              "       [-1.8832381 ,  2.4694912 ],\n",
              "       [-2.0140243 ,  2.6129782 ],\n",
              "       [-2.0237586 ,  2.6066825 ],\n",
              "       [-1.4245619 ,  1.6256773 ],\n",
              "       [-1.8531697 ,  2.426646  ],\n",
              "       [-1.8741881 ,  2.4571543 ],\n",
              "       [-1.8938767 ,  2.5128098 ],\n",
              "       [ 1.3606571 , -1.5057298 ],\n",
              "       [ 1.0675234 , -1.1341296 ],\n",
              "       [-2.024197  ,  2.6134648 ],\n",
              "       [-2.0260067 ,  2.6059124 ],\n",
              "       [-2.026262  ,  2.6081808 ],\n",
              "       [-2.0257277 ,  2.604089  ],\n",
              "       [-1.0299698 ,  1.0088104 ],\n",
              "       [-2.0027933 ,  2.6092067 ],\n",
              "       [ 1.4650583 , -1.671732  ],\n",
              "       [-2.0132666 ,  2.6124134 ],\n",
              "       [-0.47736016,  0.19370626],\n",
              "       [-2.0144153 ,  2.61727   ],\n",
              "       [-0.09588185, -0.17288435],\n",
              "       [ 1.1342081 , -1.2580732 ],\n",
              "       [-1.8560752 ,  2.4659295 ],\n",
              "       [-1.8365191 ,  2.3613021 ],\n",
              "       [-1.9147408 ,  2.5166593 ],\n",
              "       [-1.8067147 ,  2.4076931 ],\n",
              "       [ 1.3472812 , -1.5089519 ],\n",
              "       [-1.9012476 ,  2.519949  ],\n",
              "       [-2.0253608 ,  2.6000953 ],\n",
              "       [ 0.91629446, -1.0365974 ],\n",
              "       [-2.0247893 ,  2.6122563 ],\n",
              "       [-2.0245135 ,  2.5949304 ],\n",
              "       [-2.0263262 ,  2.6048045 ],\n",
              "       [-0.56799763,  0.13803576],\n",
              "       [ 1.3524365 , -1.4786152 ],\n",
              "       [ 1.1960377 , -1.3250943 ],\n",
              "       [-1.3616233 ,  1.5361625 ],\n",
              "       [-2.0273476 ,  2.6112907 ],\n",
              "       [-2.0047553 ,  2.60213   ],\n",
              "       [-0.9383343 ,  0.8649275 ],\n",
              "       [ 1.3360249 , -1.5301406 ],\n",
              "       [ 0.21364851,  0.0819051 ],\n",
              "       [-1.0879219 ,  1.0947062 ],\n",
              "       [ 1.4534733 , -1.6438574 ],\n",
              "       [-1.7729046 ,  2.2012286 ],\n",
              "       [-2.015586  ,  2.614235  ],\n",
              "       [-1.8231332 ,  2.4193382 ],\n",
              "       [-2.0234425 ,  2.6163688 ],\n",
              "       [ 0.52622044, -0.34879252],\n",
              "       [-2.0246148 ,  2.5960112 ],\n",
              "       [-1.816157  ,  2.4191782 ],\n",
              "       [-1.8576051 ,  2.4014177 ],\n",
              "       [-1.8343775 ,  2.4378684 ],\n",
              "       [-1.8246982 ,  2.3343112 ],\n",
              "       [-2.0260763 ,  2.6038952 ],\n",
              "       [-0.8387037 ,  0.619613  ],\n",
              "       [-2.0233908 ,  2.6072624 ],\n",
              "       [-1.7599419 ,  2.13545   ],\n",
              "       [-1.8613709 ,  2.464972  ],\n",
              "       [-2.0182989 ,  2.6178617 ],\n",
              "       [-1.915014  ,  2.525663  ],\n",
              "       [-1.8642572 ,  2.426323  ],\n",
              "       [-2.025075  ,  2.6002917 ],\n",
              "       [ 1.0848399 , -1.1288543 ],\n",
              "       [-1.8484325 ,  2.408035  ],\n",
              "       [-2.0238223 ,  2.5990925 ],\n",
              "       [ 1.1773311 , -1.3040464 ],\n",
              "       [-2.025909  ,  2.6040263 ],\n",
              "       [-0.31459966, -0.20860635],\n",
              "       [ 1.3675264 , -1.5341288 ],\n",
              "       [-1.0459825 ,  1.1436436 ],\n",
              "       [-2.0248063 ,  2.5965042 ],\n",
              "       [ 1.2086571 , -1.3190457 ],\n",
              "       [-1.1263819 ,  1.134659  ]], dtype=float32), label_ids=array([1, 0, 0, 1, 0, 1, 0, 1, 1, 1, 1, 0, 0, 1, 1, 1, 1, 0, 1, 0, 0, 1,\n",
              "       0, 1, 1, 1, 0, 1, 1, 1, 0, 1, 1, 1, 1, 0, 0, 0, 1, 1, 0, 1, 0, 0,\n",
              "       0, 1, 1, 0, 1, 1, 1, 1, 1, 1, 1, 1, 1, 1, 1, 1, 0, 1, 1, 1, 1, 0,\n",
              "       1, 1, 0, 1, 1, 1, 1, 1, 1, 1, 0, 1, 1, 1, 0, 1, 1, 0, 1, 0, 1, 0,\n",
              "       1, 1, 0, 1, 1, 0, 1, 1, 0, 1, 1, 1, 1, 1, 1, 1, 0, 1, 1, 0, 0, 1,\n",
              "       1, 1, 1, 1, 0, 0, 1, 1, 1, 1, 1, 1, 0, 1, 1, 1, 1, 0, 1, 1, 1, 0,\n",
              "       1, 0, 1, 1, 0, 0, 1, 0, 1, 0, 0, 1, 0, 0, 1, 1, 1, 1, 0, 1, 1, 1,\n",
              "       1, 1, 1, 0, 0, 1, 1, 1, 1, 1, 1, 1, 1, 0, 1, 0, 0, 1, 1, 1, 0, 1,\n",
              "       1, 0, 1, 1, 0, 0, 1, 1, 0, 1, 0, 1, 0, 1, 1, 0, 1, 1, 0, 1, 1, 0,\n",
              "       1, 1, 1, 0, 1, 1, 1, 0, 1, 1, 1, 0, 0, 1, 1, 0, 1, 1, 1, 1, 0, 1,\n",
              "       1, 1, 1, 0, 1, 1, 1, 1, 1, 1, 1, 1, 1, 1, 1, 0, 1, 0, 1, 0, 1, 0,\n",
              "       1, 1, 1, 1, 1, 0, 1, 1, 1, 0, 1, 0, 1, 0, 1, 1, 1, 0, 1, 0, 1, 1,\n",
              "       0, 1, 1, 0, 0, 1, 0, 1, 1, 1, 1, 1, 1, 1, 1, 0, 1, 1, 1, 0, 0, 1,\n",
              "       1, 1, 1, 1, 1, 0, 1, 1, 1, 0, 0, 0, 1, 1, 1, 1, 1, 1, 1, 1, 0, 1,\n",
              "       0, 0, 0, 1, 1, 0, 1, 0, 1, 1, 0, 0, 0, 0, 0, 1, 0, 1, 0, 1, 1, 1,\n",
              "       1, 1, 0, 1, 1, 1, 1, 0, 0, 1, 1, 1, 0, 0, 1, 1, 1, 1, 0, 1, 0, 1,\n",
              "       0, 1, 0, 0, 1, 1, 1, 1, 0, 1, 1, 0, 1, 1, 0, 1, 0, 0, 1, 1, 1, 1,\n",
              "       0, 0, 0, 0, 1, 1, 1, 1, 0, 1, 1, 0, 1, 0, 1, 1, 1, 1, 1, 1, 1, 1,\n",
              "       1, 1, 1, 1, 0, 1, 1, 0, 1, 1, 0, 1]), metrics={'test_loss': 0.4916718304157257, 'test_runtime': 98.8468, 'test_samples_per_second': 4.128, 'test_steps_per_second': 0.516})"
            ]
          },
          "metadata": {},
          "execution_count": 39
        }
      ],
      "source": [
        "predictions = trainer.predict(tokenized_dataset[\"validation\"])\n",
        "predictions"
      ]
    },
    {
      "cell_type": "code",
      "execution_count": 40,
      "metadata": {
        "colab": {
          "base_uri": "https://localhost:8080/"
        },
        "id": "5LnUpe4h6DDF",
        "outputId": "a87bea98-c127-4522-99e6-fcf309b2ddd5"
      },
      "outputs": [
        {
          "output_type": "execute_result",
          "data": {
            "text/plain": [
              "array([[-2.0216947 ,  2.6161642 ],\n",
              "       [ 1.3770725 , -1.5489072 ],\n",
              "       [ 0.54202986, -0.3131326 ],\n",
              "       [-1.8087684 ,  2.297847  ],\n",
              "       [ 1.4334191 , -1.6186483 ],\n",
              "       [-1.8798934 ,  2.4924774 ],\n",
              "       [-1.8771794 ,  2.4536123 ],\n",
              "       [-1.970054  ,  2.5779216 ],\n",
              "       [-1.2400187 ,  1.3722745 ],\n",
              "       [-1.8581765 ,  2.4555893 ],\n",
              "       [-2.0280185 ,  2.6173038 ],\n",
              "       [ 1.437205  , -1.6222988 ],\n",
              "       [ 1.161532  , -1.2929114 ],\n",
              "       [-1.8549104 ,  2.4241087 ],\n",
              "       [-2.025151  ,  2.5957048 ],\n",
              "       [-1.0138761 ,  0.8670487 ],\n",
              "       [-2.0258167 ,  2.601831  ],\n",
              "       [ 1.1187184 , -1.2246493 ],\n",
              "       [-2.0261574 ,  2.6018474 ],\n",
              "       [ 1.1748844 , -1.3093845 ],\n",
              "       [ 1.2570518 , -1.4047494 ],\n",
              "       [-0.19572961, -0.3293346 ],\n",
              "       [-0.06728968, -0.5119922 ],\n",
              "       [-2.0162687 ,  2.612826  ],\n",
              "       [-2.0185225 ,  2.614506  ],\n",
              "       [-1.1987897 ,  1.3092505 ],\n",
              "       [-1.8222615 ,  2.4105935 ],\n",
              "       [-2.024727  ,  2.595037  ],\n",
              "       [-1.865794  ,  2.437914  ],\n",
              "       [-1.9138198 ,  2.5321631 ],\n",
              "       [ 0.8067996 , -0.8240437 ],\n",
              "       [-2.0254264 ,  2.5974007 ],\n",
              "       [-2.0248184 ,  2.6129518 ],\n",
              "       [-1.8621279 ,  2.4596617 ],\n",
              "       [-2.0186143 ,  2.6164575 ],\n",
              "       [-0.5730603 ,  0.45560598],\n",
              "       [ 1.1857026 , -1.1640096 ],\n",
              "       [ 1.4279612 , -1.6102175 ],\n",
              "       [-1.906003  ,  2.525671  ],\n",
              "       [-2.0243392 ,  2.5945873 ],\n",
              "       [ 1.3535796 , -1.5242015 ],\n",
              "       [-1.8865619 ,  2.4911172 ],\n",
              "       [-0.2634646 , -0.25264278],\n",
              "       [ 1.2979381 , -1.399923  ],\n",
              "       [ 1.1448637 , -1.2702227 ],\n",
              "       [-2.0249472 ,  2.602429  ],\n",
              "       [-1.8824185 ,  2.4897022 ],\n",
              "       [ 1.402537  , -1.5868379 ],\n",
              "       [-1.8520662 ,  2.4559927 ],\n",
              "       [-1.934025  ,  2.545934  ],\n",
              "       [-1.8647802 ,  2.4315062 ],\n",
              "       [-1.8686832 ,  2.449505  ],\n",
              "       [-1.8776282 ,  2.4645019 ],\n",
              "       [-1.8753536 ,  2.4877138 ],\n",
              "       [-1.5073441 ,  1.6707423 ],\n",
              "       [-2.0159962 ,  2.6157904 ],\n",
              "       [ 1.0365937 , -1.0806524 ],\n",
              "       [-1.9051422 ,  2.5291696 ],\n",
              "       [-1.8997706 ,  2.5133345 ],\n",
              "       [-1.8693411 ,  2.4287906 ],\n",
              "       [-1.3998481 ,  1.6005815 ],\n",
              "       [ 1.45867   , -1.635832  ],\n",
              "       [-2.0258112 ,  2.6086655 ],\n",
              "       [-1.889748  ,  2.4669924 ],\n",
              "       [-1.8436233 ,  2.44455   ],\n",
              "       [ 1.0968117 , -1.1989287 ],\n",
              "       [-2.0245109 ,  2.5975885 ],\n",
              "       [-2.0256953 ,  2.5986714 ],\n",
              "       [ 0.6182652 , -0.6179981 ],\n",
              "       [-1.9052013 ,  2.5284688 ],\n",
              "       [-2.0263944 ,  2.6076527 ],\n",
              "       [ 0.36568758, -0.33124557],\n",
              "       [-2.025746  ,  2.6001382 ],\n",
              "       [-1.891702  ,  2.5019517 ],\n",
              "       [-1.8753608 ,  2.4576354 ],\n",
              "       [-1.8822768 ,  2.4844718 ],\n",
              "       [-1.8615967 ,  2.42946   ],\n",
              "       [-2.0233128 ,  2.6151    ],\n",
              "       [-1.911935  ,  2.5263166 ],\n",
              "       [-1.9063494 ,  2.5020401 ],\n",
              "       [-1.1406506 ,  1.2660619 ],\n",
              "       [-1.8763798 ,  2.446495  ],\n",
              "       [-2.0081968 ,  2.6087036 ],\n",
              "       [ 1.3634626 , -1.5067407 ],\n",
              "       [-2.025604  ,  2.6010773 ],\n",
              "       [ 0.75824565, -0.79608345],\n",
              "       [-1.9117492 ,  2.5062823 ],\n",
              "       [-0.30922565, -0.137257  ],\n",
              "       [-1.8971912 ,  2.5095294 ],\n",
              "       [-2.0238829 ,  2.591236  ],\n",
              "       [-1.8965124 ,  2.4912143 ],\n",
              "       [-1.8922683 ,  2.5135317 ],\n",
              "       [-2.0177143 ,  2.616093  ],\n",
              "       [-1.9317664 ,  2.5565355 ],\n",
              "       [-2.015215  ,  2.6151705 ],\n",
              "       [-2.0244467 ,  2.6010828 ],\n",
              "       [ 1.1671091 , -1.2447532 ],\n",
              "       [-1.8127586 ,  2.4148667 ],\n",
              "       [-1.8968786 ,  2.4893336 ],\n",
              "       [-1.89707   ,  2.5065014 ],\n",
              "       [-1.9009683 ,  2.483114  ],\n",
              "       [-1.2031361 ,  1.294774  ],\n",
              "       [-1.8332001 ,  2.4223187 ],\n",
              "       [-2.0235515 ,  2.615436  ],\n",
              "       [ 0.9372503 , -1.0462098 ],\n",
              "       [-1.9510282 ,  2.571506  ],\n",
              "       [-0.76471   ,  0.5355028 ],\n",
              "       [ 1.4041735 , -1.5639608 ],\n",
              "       [ 1.1245447 , -1.2920281 ],\n",
              "       [-2.0094852 ,  2.6100345 ],\n",
              "       [ 1.0473646 , -1.0703582 ],\n",
              "       [-1.9164011 ,  2.5437841 ],\n",
              "       [-1.9123019 ,  2.5145297 ],\n",
              "       [-2.0239804 ,  2.5915158 ],\n",
              "       [-1.6849103 ,  2.0113103 ],\n",
              "       [ 1.4249972 , -1.6204253 ],\n",
              "       [-2.022659  ,  2.613801  ],\n",
              "       [-1.7106284 ,  2.0128226 ],\n",
              "       [-2.0170677 ,  2.6104012 ],\n",
              "       [-2.0252395 ,  2.6059422 ],\n",
              "       [-2.010273  ,  2.6110754 ],\n",
              "       [ 0.4122445 , -0.41664383],\n",
              "       [ 1.1902138 , -1.2769579 ],\n",
              "       [-1.9252831 ,  2.5272756 ],\n",
              "       [-2.0211008 ,  2.614458  ],\n",
              "       [-2.010254  ,  2.6134727 ],\n",
              "       [-1.8812386 ,  2.495357  ],\n",
              "       [ 1.2715408 , -1.4247576 ],\n",
              "       [-2.0244884 ,  2.5961065 ],\n",
              "       [-1.8896153 ,  2.4955494 ],\n",
              "       [-1.9153417 ,  2.5449004 ],\n",
              "       [-2.0186343 ,  2.6109595 ],\n",
              "       [-1.8107076 ,  2.4066725 ],\n",
              "       [-0.18224819, -0.3001223 ],\n",
              "       [-1.8550417 ,  2.4409099 ],\n",
              "       [-1.8834081 ,  2.464177  ],\n",
              "       [-1.307728  ,  1.446093  ],\n",
              "       [ 1.1649318 , -1.2859299 ],\n",
              "       [-2.0244498 ,  2.6032662 ],\n",
              "       [-1.9170537 ,  2.5172815 ],\n",
              "       [-2.025279  ,  2.5960898 ],\n",
              "       [ 1.34364   , -1.4587303 ],\n",
              "       [ 1.336655  , -1.4984072 ],\n",
              "       [-1.9256307 ,  2.5325413 ],\n",
              "       [ 1.4032013 , -1.5748045 ],\n",
              "       [-1.3683853 ,  1.5343057 ],\n",
              "       [-2.0244613 ,  2.5958421 ],\n",
              "       [-1.7089759 ,  2.1944075 ],\n",
              "       [ 0.8925287 , -0.9181909 ],\n",
              "       [-1.882836  ,  2.493896  ],\n",
              "       [ 1.2964014 , -1.4584514 ],\n",
              "       [-1.8555397 ,  2.4368725 ],\n",
              "       [-1.8632334 ,  2.4450383 ],\n",
              "       [-2.0252922 ,  2.6091204 ],\n",
              "       [ 1.2485578 , -1.3814718 ],\n",
              "       [-2.0161426 ,  2.6141925 ],\n",
              "       [-1.8729652 ,  2.471623  ],\n",
              "       [-1.8107868 ,  2.327015  ],\n",
              "       [ 0.7111526 , -0.9141447 ],\n",
              "       [-1.6117616 ,  1.9421299 ],\n",
              "       [-1.8214757 ,  2.4134512 ],\n",
              "       [-1.885245  ,  2.4941072 ],\n",
              "       [-2.0246367 ,  2.594643  ],\n",
              "       [-2.0158656 ,  2.614836  ],\n",
              "       [-1.9932894 ,  2.602513  ],\n",
              "       [-1.9098195 ,  2.535726  ],\n",
              "       [-1.4559094 ,  1.8319396 ],\n",
              "       [ 1.3107744 , -1.4582434 ],\n",
              "       [-1.8762935 ,  2.4856262 ],\n",
              "       [ 1.3806592 , -1.5468781 ],\n",
              "       [-0.28166726,  0.53025776],\n",
              "       [ 1.1621178 , -1.25715   ],\n",
              "       [-1.7190422 ,  2.0877004 ],\n",
              "       [-1.9017261 ,  2.5144773 ],\n",
              "       [ 1.2835635 , -1.3821672 ],\n",
              "       [-1.9013929 ,  2.501039  ],\n",
              "       [-1.8712415 ,  2.4796095 ],\n",
              "       [ 1.3180138 , -1.3750871 ],\n",
              "       [-2.0232484 ,  2.6147652 ],\n",
              "       [-2.0264578 ,  2.6164517 ],\n",
              "       [ 1.0786906 , -1.0504175 ],\n",
              "       [-1.5447652 ,  1.8118242 ],\n",
              "       [-2.0253768 ,  2.5972085 ],\n",
              "       [-2.0042865 ,  2.6063616 ],\n",
              "       [-0.74575955,  0.39577404],\n",
              "       [-1.9136515 ,  2.4981437 ],\n",
              "       [ 0.88315684, -1.0855883 ],\n",
              "       [-0.06028096, -0.5657036 ],\n",
              "       [ 1.3863153 , -1.587509  ],\n",
              "       [-2.0190525 ,  2.615394  ],\n",
              "       [-2.0229177 ,  2.6047492 ],\n",
              "       [ 1.373648  , -1.540973  ],\n",
              "       [ 1.0156218 , -1.0224941 ],\n",
              "       [-2.0248766 ,  2.607318  ],\n",
              "       [-0.51695216,  0.20759226],\n",
              "       [-1.8476862 ,  2.3686285 ],\n",
              "       [-2.0254607 ,  2.597842  ],\n",
              "       [-1.4178445 ,  1.5782477 ],\n",
              "       [-1.8348869 ,  2.4168863 ],\n",
              "       [-1.8933433 ,  2.4939253 ],\n",
              "       [-1.846419  ,  2.4427037 ],\n",
              "       [-1.8362653 ,  2.3626337 ],\n",
              "       [ 1.1389803 , -1.2422467 ],\n",
              "       [-1.8700008 ,  2.477959  ],\n",
              "       [-1.8747185 ,  2.452621  ],\n",
              "       [ 1.249741  , -1.3963828 ],\n",
              "       [-1.8718833 ,  2.4761705 ],\n",
              "       [-1.8558775 ,  2.3863957 ],\n",
              "       [ 1.3476745 , -1.5285507 ],\n",
              "       [ 1.19141   , -1.3079001 ],\n",
              "       [-0.8608958 ,  0.7559164 ],\n",
              "       [-1.940226  ,  2.5655794 ],\n",
              "       [ 1.0732034 , -1.1670321 ],\n",
              "       [ 0.88758314, -1.0320174 ],\n",
              "       [-1.9109232 ,  2.5286584 ],\n",
              "       [-2.0253055 ,  2.596208  ],\n",
              "       [-1.7467635 ,  2.068533  ],\n",
              "       [-1.9872181 ,  2.5985775 ],\n",
              "       [ 1.4164276 , -1.5468171 ],\n",
              "       [-1.8382236 ,  2.414185  ],\n",
              "       [-0.41344887, -0.05684083],\n",
              "       [-2.0025554 ,  2.6043012 ],\n",
              "       [-1.9476835 ,  2.571288  ],\n",
              "       [ 1.329198  , -1.480965  ],\n",
              "       [-2.0247946 ,  2.6138768 ],\n",
              "       [-2.0222597 ,  2.615218  ],\n",
              "       [-2.0252156 ,  2.6114721 ],\n",
              "       [-1.8418871 ,  2.3972244 ],\n",
              "       [-1.8650944 ,  2.4755478 ],\n",
              "       [-1.8718733 ,  2.4562414 ],\n",
              "       [-2.025679  ,  2.6126494 ],\n",
              "       [-2.019416  ,  2.6145663 ],\n",
              "       [ 1.1393523 , -1.164647  ],\n",
              "       [-0.8295476 ,  0.5949654 ],\n",
              "       [-1.4152896 ,  1.6190363 ],\n",
              "       [ 0.8796199 , -0.9953587 ],\n",
              "       [-1.893762  ,  2.494608  ],\n",
              "       [ 1.4801627 , -1.6556956 ],\n",
              "       [ 0.89541036, -0.9068877 ],\n",
              "       [-1.2391871 ,  1.3786978 ],\n",
              "       [-1.897413  ,  2.5140586 ],\n",
              "       [ 1.3033727 , -1.4856087 ],\n",
              "       [-1.8589562 ,  2.4525952 ],\n",
              "       [-1.8861703 ,  2.479498  ],\n",
              "       [-1.80185   ,  2.1955345 ],\n",
              "       [-2.0022562 ,  2.60464   ],\n",
              "       [-1.8104703 ,  2.3108678 ],\n",
              "       [-1.8745012 ,  2.4514341 ],\n",
              "       [-2.0245132 ,  2.614327  ],\n",
              "       [-1.894331  ,  2.4795127 ],\n",
              "       [-1.8586162 ,  2.467681  ],\n",
              "       [-1.2956995 ,  1.397015  ],\n",
              "       [-1.1922399 ,  1.3691636 ],\n",
              "       [-1.0047299 ,  0.88942915],\n",
              "       [ 1.1265056 , -1.1955727 ],\n",
              "       [ 1.4141461 , -1.5898373 ],\n",
              "       [-1.6347917 ,  1.848595  ],\n",
              "       [-1.8895291 ,  2.473009  ],\n",
              "       [-1.8846991 ,  2.4666047 ],\n",
              "       [ 1.25668   , -1.3893524 ],\n",
              "       [-1.8888191 ,  2.4871    ],\n",
              "       [-1.8750783 ,  2.4872313 ],\n",
              "       [-2.025216  ,  2.6033783 ],\n",
              "       [-0.73785836,  0.4657407 ],\n",
              "       [-1.4359242 ,  1.6260532 ],\n",
              "       [ 0.70304525, -0.79571235],\n",
              "       [-1.8955028 ,  2.495224  ],\n",
              "       [ 1.0141546 , -1.1258909 ],\n",
              "       [ 0.90813357, -0.90509194],\n",
              "       [-1.8595049 ,  2.4534907 ],\n",
              "       [ 1.3497356 , -1.5010732 ],\n",
              "       [-2.0158963 ,  2.614171  ],\n",
              "       [-1.9182069 ,  2.5538378 ],\n",
              "       [-2.0251215 ,  2.612318  ],\n",
              "       [-2.0246513 ,  2.594112  ],\n",
              "       [-2.0244136 ,  2.5944164 ],\n",
              "       [-1.8679854 ,  2.4729362 ],\n",
              "       [ 1.0733805 , -1.1551493 ],\n",
              "       [-1.8037826 ,  2.3034947 ],\n",
              "       [ 1.3766489 , -1.5202081 ],\n",
              "       [-1.8159157 ,  2.3331966 ],\n",
              "       [-1.8958956 ,  2.478919  ],\n",
              "       [-1.4264337 ,  1.6600744 ],\n",
              "       [ 1.2866472 , -1.4662203 ],\n",
              "       [-0.743053  ,  0.4515045 ],\n",
              "       [-1.9364287 ,  2.551621  ],\n",
              "       [-2.0262606 ,  2.6116197 ],\n",
              "       [-0.6418722 ,  0.2812274 ],\n",
              "       [-2.0203235 ,  2.6163847 ],\n",
              "       [ 1.1470983 , -1.2444504 ],\n",
              "       [-1.5633377 ,  1.8218852 ],\n",
              "       [ 1.225609  , -1.3279802 ],\n",
              "       [-2.0256045 ,  2.6005144 ],\n",
              "       [-1.8769363 ,  2.4535851 ],\n",
              "       [-1.8968506 ,  2.5182543 ],\n",
              "       [ 1.2057565 , -1.4122518 ],\n",
              "       [ 1.352178  , -1.507355  ],\n",
              "       [-1.8862548 ,  2.4629712 ],\n",
              "       [-2.0245404 ,  2.6086135 ],\n",
              "       [-1.8308148 ,  2.3635929 ],\n",
              "       [-2.023281  ,  2.6135364 ],\n",
              "       [-1.903184  ,  2.497871  ],\n",
              "       [-1.8797234 ,  2.483012  ],\n",
              "       [ 1.4263278 , -1.5823053 ],\n",
              "       [-1.9779593 ,  2.5890698 ],\n",
              "       [-1.9695702 ,  2.5854406 ],\n",
              "       [ 1.4101468 , -1.5628568 ],\n",
              "       [-2.0261388 ,  2.6021457 ],\n",
              "       [ 1.400455  , -1.5536768 ],\n",
              "       [-0.5642877 ,  0.09882222],\n",
              "       [-2.0267348 ,  2.6042569 ],\n",
              "       [-2.0254805 ,  2.6058884 ],\n",
              "       [-1.8512383 ,  2.401591  ],\n",
              "       [ 1.3770646 , -1.563846  ],\n",
              "       [-2.0235457 ,  2.5923839 ],\n",
              "       [ 1.4130833 , -1.5102023 ],\n",
              "       [ 1.0745655 , -1.157404  ],\n",
              "       [-1.9467537 ,  2.5586693 ],\n",
              "       [ 1.3455852 , -1.4932609 ],\n",
              "       [ 1.3967707 , -1.5131551 ],\n",
              "       [ 1.4707843 , -1.6387023 ],\n",
              "       [ 1.3445569 , -1.5154899 ],\n",
              "       [ 1.1598755 , -1.2909242 ],\n",
              "       [-1.623283  ,  1.8945937 ],\n",
              "       [ 1.2418774 , -1.3978927 ],\n",
              "       [-2.0257847 ,  2.6085782 ],\n",
              "       [-1.7861161 ,  2.2163906 ],\n",
              "       [-2.024921  ,  2.5966125 ],\n",
              "       [-1.9225103 ,  2.5158167 ],\n",
              "       [-1.6883363 ,  2.0288918 ],\n",
              "       [-2.019094  ,  2.6155667 ],\n",
              "       [-2.012301  ,  2.6141138 ],\n",
              "       [-2.0218487 ,  2.6150224 ],\n",
              "       [-1.328578  ,  1.5146034 ],\n",
              "       [-2.025126  ,  2.5952373 ],\n",
              "       [-1.8832381 ,  2.4694912 ],\n",
              "       [-2.0140243 ,  2.6129782 ],\n",
              "       [-2.0237586 ,  2.6066825 ],\n",
              "       [-1.4245619 ,  1.6256773 ],\n",
              "       [-1.8531697 ,  2.426646  ],\n",
              "       [-1.8741881 ,  2.4571543 ],\n",
              "       [-1.8938767 ,  2.5128098 ],\n",
              "       [ 1.3606571 , -1.5057298 ],\n",
              "       [ 1.0675234 , -1.1341296 ],\n",
              "       [-2.024197  ,  2.6134648 ],\n",
              "       [-2.0260067 ,  2.6059124 ],\n",
              "       [-2.026262  ,  2.6081808 ],\n",
              "       [-2.0257277 ,  2.604089  ],\n",
              "       [-1.0299698 ,  1.0088104 ],\n",
              "       [-2.0027933 ,  2.6092067 ],\n",
              "       [ 1.4650583 , -1.671732  ],\n",
              "       [-2.0132666 ,  2.6124134 ],\n",
              "       [-0.47736016,  0.19370626],\n",
              "       [-2.0144153 ,  2.61727   ],\n",
              "       [-0.09588185, -0.17288435],\n",
              "       [ 1.1342081 , -1.2580732 ],\n",
              "       [-1.8560752 ,  2.4659295 ],\n",
              "       [-1.8365191 ,  2.3613021 ],\n",
              "       [-1.9147408 ,  2.5166593 ],\n",
              "       [-1.8067147 ,  2.4076931 ],\n",
              "       [ 1.3472812 , -1.5089519 ],\n",
              "       [-1.9012476 ,  2.519949  ],\n",
              "       [-2.0253608 ,  2.6000953 ],\n",
              "       [ 0.91629446, -1.0365974 ],\n",
              "       [-2.0247893 ,  2.6122563 ],\n",
              "       [-2.0245135 ,  2.5949304 ],\n",
              "       [-2.0263262 ,  2.6048045 ],\n",
              "       [-0.56799763,  0.13803576],\n",
              "       [ 1.3524365 , -1.4786152 ],\n",
              "       [ 1.1960377 , -1.3250943 ],\n",
              "       [-1.3616233 ,  1.5361625 ],\n",
              "       [-2.0273476 ,  2.6112907 ],\n",
              "       [-2.0047553 ,  2.60213   ],\n",
              "       [-0.9383343 ,  0.8649275 ],\n",
              "       [ 1.3360249 , -1.5301406 ],\n",
              "       [ 0.21364851,  0.0819051 ],\n",
              "       [-1.0879219 ,  1.0947062 ],\n",
              "       [ 1.4534733 , -1.6438574 ],\n",
              "       [-1.7729046 ,  2.2012286 ],\n",
              "       [-2.015586  ,  2.614235  ],\n",
              "       [-1.8231332 ,  2.4193382 ],\n",
              "       [-2.0234425 ,  2.6163688 ],\n",
              "       [ 0.52622044, -0.34879252],\n",
              "       [-2.0246148 ,  2.5960112 ],\n",
              "       [-1.816157  ,  2.4191782 ],\n",
              "       [-1.8576051 ,  2.4014177 ],\n",
              "       [-1.8343775 ,  2.4378684 ],\n",
              "       [-1.8246982 ,  2.3343112 ],\n",
              "       [-2.0260763 ,  2.6038952 ],\n",
              "       [-0.8387037 ,  0.619613  ],\n",
              "       [-2.0233908 ,  2.6072624 ],\n",
              "       [-1.7599419 ,  2.13545   ],\n",
              "       [-1.8613709 ,  2.464972  ],\n",
              "       [-2.0182989 ,  2.6178617 ],\n",
              "       [-1.915014  ,  2.525663  ],\n",
              "       [-1.8642572 ,  2.426323  ],\n",
              "       [-2.025075  ,  2.6002917 ],\n",
              "       [ 1.0848399 , -1.1288543 ],\n",
              "       [-1.8484325 ,  2.408035  ],\n",
              "       [-2.0238223 ,  2.5990925 ],\n",
              "       [ 1.1773311 , -1.3040464 ],\n",
              "       [-2.025909  ,  2.6040263 ],\n",
              "       [-0.31459966, -0.20860635],\n",
              "       [ 1.3675264 , -1.5341288 ],\n",
              "       [-1.0459825 ,  1.1436436 ],\n",
              "       [-2.0248063 ,  2.5965042 ],\n",
              "       [ 1.2086571 , -1.3190457 ],\n",
              "       [-1.1263819 ,  1.134659  ]], dtype=float32)"
            ]
          },
          "metadata": {},
          "execution_count": 40
        }
      ],
      "source": [
        "predictions.predictions"
      ]
    },
    {
      "cell_type": "code",
      "execution_count": 41,
      "metadata": {
        "id": "suVzOlt63CVs"
      },
      "outputs": [],
      "source": [
        "import numpy as np"
      ]
    },
    {
      "cell_type": "code",
      "execution_count": 42,
      "metadata": {
        "colab": {
          "base_uri": "https://localhost:8080/"
        },
        "id": "4p5SDJp76FsY",
        "outputId": "d4671c16-cdf6-4e94-8a07-94716db0146e"
      },
      "outputs": [
        {
          "output_type": "execute_result",
          "data": {
            "text/plain": [
              "787"
            ]
          },
          "metadata": {},
          "execution_count": 42
        }
      ],
      "source": [
        "np.argmax(predictions.predictions)"
      ]
    },
    {
      "cell_type": "code",
      "execution_count": 43,
      "metadata": {
        "colab": {
          "base_uri": "https://localhost:8080/"
        },
        "id": "ak70SS1t4HFc",
        "outputId": "2690d504-f759-4b8b-e5fd-3ec1e5f1f30a"
      },
      "outputs": [
        {
          "output_type": "execute_result",
          "data": {
            "text/plain": [
              "array([1, 0, 0, 1, 0, 1, 1, 1, 1, 1, 1, 0, 0, 1, 1, 1, 1, 0, 1, 0, 0, 0,\n",
              "       0, 1, 1, 1, 1, 1, 1, 1, 0, 1, 1, 1, 1, 1, 0, 0, 1, 1, 0, 1, 1, 0,\n",
              "       0, 1, 1, 0, 1, 1, 1, 1, 1, 1, 1, 1, 0, 1, 1, 1, 1, 0, 1, 1, 1, 0,\n",
              "       1, 1, 0, 1, 1, 0, 1, 1, 1, 1, 1, 1, 1, 1, 1, 1, 1, 0, 1, 0, 1, 1,\n",
              "       1, 1, 1, 1, 1, 1, 1, 1, 0, 1, 1, 1, 1, 1, 1, 1, 0, 1, 1, 0, 0, 1,\n",
              "       0, 1, 1, 1, 1, 0, 1, 1, 1, 1, 1, 0, 0, 1, 1, 1, 1, 0, 1, 1, 1, 1,\n",
              "       1, 0, 1, 1, 1, 0, 1, 1, 1, 0, 0, 1, 0, 1, 1, 1, 0, 1, 0, 1, 1, 1,\n",
              "       0, 1, 1, 1, 0, 1, 1, 1, 1, 1, 1, 1, 1, 0, 1, 0, 1, 0, 1, 1, 0, 1,\n",
              "       1, 0, 1, 1, 0, 1, 1, 1, 1, 1, 0, 0, 0, 1, 1, 0, 0, 1, 1, 1, 1, 1,\n",
              "       1, 1, 1, 1, 0, 1, 1, 0, 1, 1, 0, 0, 1, 1, 0, 0, 1, 1, 1, 1, 0, 1,\n",
              "       1, 1, 1, 0, 1, 1, 1, 1, 1, 1, 1, 1, 0, 1, 1, 0, 1, 0, 0, 1, 1, 0,\n",
              "       1, 1, 1, 1, 1, 1, 1, 1, 1, 1, 1, 1, 0, 0, 1, 1, 1, 0, 1, 1, 1, 1,\n",
              "       1, 0, 1, 0, 0, 1, 0, 1, 1, 1, 1, 1, 1, 0, 1, 0, 1, 1, 1, 0, 1, 1,\n",
              "       1, 1, 1, 0, 1, 0, 1, 1, 1, 0, 0, 1, 1, 1, 1, 1, 1, 0, 1, 1, 0, 1,\n",
              "       0, 1, 1, 1, 1, 0, 1, 0, 0, 1, 0, 0, 0, 0, 0, 1, 0, 1, 1, 1, 1, 1,\n",
              "       1, 1, 1, 1, 1, 1, 1, 1, 1, 1, 1, 1, 0, 0, 1, 1, 1, 1, 1, 1, 0, 1,\n",
              "       1, 1, 0, 0, 1, 1, 1, 1, 0, 1, 1, 0, 1, 1, 1, 1, 0, 0, 1, 1, 1, 1,\n",
              "       0, 0, 1, 0, 1, 1, 1, 1, 0, 1, 1, 1, 1, 1, 1, 1, 1, 1, 1, 1, 1, 1,\n",
              "       1, 0, 1, 1, 0, 1, 1, 0, 1, 1, 0, 1])"
            ]
          },
          "metadata": {},
          "execution_count": 43
        }
      ],
      "source": [
        "preds = np.argmax(predictions.predictions, axis=-1)\n",
        "preds"
      ]
    },
    {
      "cell_type": "code",
      "execution_count": 44,
      "metadata": {
        "id": "0JQQMbbm4QV3"
      },
      "outputs": [],
      "source": [
        "from datasets import load_metric"
      ]
    },
    {
      "cell_type": "code",
      "execution_count": 47,
      "metadata": {
        "colab": {
          "base_uri": "https://localhost:8080/"
        },
        "id": "QrFqWxT-6Sqz",
        "outputId": "d10ff906-c474-465d-8aeb-676594be9765"
      },
      "outputs": [
        {
          "output_type": "execute_result",
          "data": {
            "text/plain": [
              "{'accuracy': 0.8382352941176471, 'f1': 0.8858131487889273}"
            ]
          },
          "metadata": {},
          "execution_count": 47
        }
      ],
      "source": [
        "metric = load_metric(\"glue\", \"mrpc\")\n",
        "metric.compute(predictions=preds, references=predictions.label_ids)"
      ]
    },
    {
      "cell_type": "code",
      "execution_count": 48,
      "metadata": {
        "id": "MRDZRIeu6gbT"
      },
      "outputs": [],
      "source": [
        "%load_ext tensorboard"
      ]
    },
    {
      "cell_type": "code",
      "execution_count": 49,
      "metadata": {
        "colab": {
          "base_uri": "https://localhost:8080/",
          "height": 104
        },
        "id": "FDUw5Eqz64Wm",
        "outputId": "73a8ee51-f6c1-4143-de59-47bb4d8bdbf3"
      },
      "outputs": [
        {
          "output_type": "display_data",
          "data": {
            "text/plain": [
              "ERROR: Failed to launch TensorBoard (exited with 1).\n",
              "Contents of stderr:\n",
              "2023-10-05 07:35:22.966104: W tensorflow/compiler/tf2tensorrt/utils/py_utils.cc:38] TF-TRT Warning: Could not find TensorRT\n",
              "Error: A logdir or db must be specified. For example `tensorboard --logdir mylogdir` or `tensorboard --db sqlite:~/.tensorboard.db`. Run `tensorboard --helpfull` for details and examples."
            ]
          },
          "metadata": {}
        }
      ],
      "source": [
        "%tensorboard --log_dir ./test-trainer/runs"
      ]
    },
    {
      "cell_type": "code",
      "execution_count": 50,
      "metadata": {
        "id": "rCPKDR9q7Bsy"
      },
      "outputs": [],
      "source": [
        "trainer.save_model()"
      ]
    },
    {
      "cell_type": "code",
      "execution_count": 51,
      "metadata": {
        "id": "Yu7xeEaz8JJU"
      },
      "outputs": [],
      "source": [
        "trainer.save_model(\"./example_model\")"
      ]
    },
    {
      "cell_type": "code",
      "execution_count": 52,
      "metadata": {
        "id": "7rTw-eoL81ph"
      },
      "outputs": [],
      "source": [
        "loaded_model = AutoModelForSequenceClassification.from_pretrained(\"./example_model\")"
      ]
    },
    {
      "cell_type": "code",
      "execution_count": 53,
      "metadata": {
        "colab": {
          "base_uri": "https://localhost:8080/"
        },
        "id": "-SPuL5Rw9ejg",
        "outputId": "2ff96102-33f7-4232-a77f-9bb261826c19"
      },
      "outputs": [
        {
          "output_type": "stream",
          "name": "stdout",
          "text": [
            "Collecting gradio\n",
            "  Downloading gradio-3.46.1-py3-none-any.whl (20.2 MB)\n",
            "\u001b[2K     \u001b[90m━━━━━━━━━━━━━━━━━━━━━━━━━━━━━━━━━━━━━━━━\u001b[0m \u001b[32m20.2/20.2 MB\u001b[0m \u001b[31m35.5 MB/s\u001b[0m eta \u001b[36m0:00:00\u001b[0m\n",
            "\u001b[?25hCollecting aiofiles<24.0,>=22.0 (from gradio)\n",
            "  Downloading aiofiles-23.2.1-py3-none-any.whl (15 kB)\n",
            "Requirement already satisfied: altair<6.0,>=4.2.0 in /usr/local/lib/python3.10/dist-packages (from gradio) (4.2.2)\n",
            "Collecting fastapi (from gradio)\n",
            "  Downloading fastapi-0.103.2-py3-none-any.whl (66 kB)\n",
            "\u001b[2K     \u001b[90m━━━━━━━━━━━━━━━━━━━━━━━━━━━━━━━━━━━━━━━━\u001b[0m \u001b[32m66.3/66.3 kB\u001b[0m \u001b[31m7.5 MB/s\u001b[0m eta \u001b[36m0:00:00\u001b[0m\n",
            "\u001b[?25hCollecting ffmpy (from gradio)\n",
            "  Downloading ffmpy-0.3.1.tar.gz (5.5 kB)\n",
            "  Preparing metadata (setup.py) ... \u001b[?25l\u001b[?25hdone\n",
            "Collecting gradio-client==0.5.3 (from gradio)\n",
            "  Downloading gradio_client-0.5.3-py3-none-any.whl (298 kB)\n",
            "\u001b[2K     \u001b[90m━━━━━━━━━━━━━━━━━━━━━━━━━━━━━━━━━━━━━━\u001b[0m \u001b[32m298.4/298.4 kB\u001b[0m \u001b[31m27.2 MB/s\u001b[0m eta \u001b[36m0:00:00\u001b[0m\n",
            "\u001b[?25hCollecting httpx (from gradio)\n",
            "  Downloading httpx-0.25.0-py3-none-any.whl (75 kB)\n",
            "\u001b[2K     \u001b[90m━━━━━━━━━━━━━━━━━━━━━━━━━━━━━━━━━━━━━━━━\u001b[0m \u001b[32m75.7/75.7 kB\u001b[0m \u001b[31m8.6 MB/s\u001b[0m eta \u001b[36m0:00:00\u001b[0m\n",
            "\u001b[?25hRequirement already satisfied: huggingface-hub>=0.14.0 in /usr/local/lib/python3.10/dist-packages (from gradio) (0.16.4)\n",
            "Requirement already satisfied: importlib-resources<7.0,>=1.3 in /usr/local/lib/python3.10/dist-packages (from gradio) (6.1.0)\n",
            "Requirement already satisfied: jinja2<4.0 in /usr/local/lib/python3.10/dist-packages (from gradio) (3.1.2)\n",
            "Requirement already satisfied: markupsafe~=2.0 in /usr/local/lib/python3.10/dist-packages (from gradio) (2.1.3)\n",
            "Requirement already satisfied: matplotlib~=3.0 in /usr/local/lib/python3.10/dist-packages (from gradio) (3.7.1)\n",
            "Requirement already satisfied: numpy~=1.0 in /usr/local/lib/python3.10/dist-packages (from gradio) (1.23.5)\n",
            "Collecting orjson~=3.0 (from gradio)\n",
            "  Downloading orjson-3.9.7-cp310-cp310-manylinux_2_17_x86_64.manylinux2014_x86_64.whl (138 kB)\n",
            "\u001b[2K     \u001b[90m━━━━━━━━━━━━━━━━━━━━━━━━━━━━━━━━━━━━━━\u001b[0m \u001b[32m138.7/138.7 kB\u001b[0m \u001b[31m16.0 MB/s\u001b[0m eta \u001b[36m0:00:00\u001b[0m\n",
            "\u001b[?25hRequirement already satisfied: packaging in /usr/local/lib/python3.10/dist-packages (from gradio) (23.1)\n",
            "Requirement already satisfied: pandas<3.0,>=1.0 in /usr/local/lib/python3.10/dist-packages (from gradio) (1.5.3)\n",
            "Requirement already satisfied: pillow<11.0,>=8.0 in /usr/local/lib/python3.10/dist-packages (from gradio) (9.4.0)\n",
            "Requirement already satisfied: pydantic!=1.8,!=1.8.1,!=2.0.0,!=2.0.1,<3.0.0,>=1.7.4 in /usr/local/lib/python3.10/dist-packages (from gradio) (1.10.13)\n",
            "Collecting pydub (from gradio)\n",
            "  Downloading pydub-0.25.1-py2.py3-none-any.whl (32 kB)\n",
            "Collecting python-multipart (from gradio)\n",
            "  Downloading python_multipart-0.0.6-py3-none-any.whl (45 kB)\n",
            "\u001b[2K     \u001b[90m━━━━━━━━━━━━━━━━━━━━━━━━━━━━━━━━━━━━━━━━\u001b[0m \u001b[32m45.7/45.7 kB\u001b[0m \u001b[31m5.5 MB/s\u001b[0m eta \u001b[36m0:00:00\u001b[0m\n",
            "\u001b[?25hRequirement already satisfied: pyyaml<7.0,>=5.0 in /usr/local/lib/python3.10/dist-packages (from gradio) (6.0.1)\n",
            "Requirement already satisfied: requests~=2.0 in /usr/local/lib/python3.10/dist-packages (from gradio) (2.31.0)\n",
            "Collecting semantic-version~=2.0 (from gradio)\n",
            "  Downloading semantic_version-2.10.0-py2.py3-none-any.whl (15 kB)\n",
            "Requirement already satisfied: typing-extensions~=4.0 in /usr/local/lib/python3.10/dist-packages (from gradio) (4.5.0)\n",
            "Collecting uvicorn>=0.14.0 (from gradio)\n",
            "  Downloading uvicorn-0.23.2-py3-none-any.whl (59 kB)\n",
            "\u001b[2K     \u001b[90m━━━━━━━━━━━━━━━━━━━━━━━━━━━━━━━━━━━━━━━━\u001b[0m \u001b[32m59.5/59.5 kB\u001b[0m \u001b[31m7.4 MB/s\u001b[0m eta \u001b[36m0:00:00\u001b[0m\n",
            "\u001b[?25hCollecting websockets<12.0,>=10.0 (from gradio)\n",
            "  Downloading websockets-11.0.3-cp310-cp310-manylinux_2_5_x86_64.manylinux1_x86_64.manylinux_2_17_x86_64.manylinux2014_x86_64.whl (129 kB)\n",
            "\u001b[2K     \u001b[90m━━━━━━━━━━━━━━━━━━━━━━━━━━━━━━━━━━━━━━\u001b[0m \u001b[32m129.9/129.9 kB\u001b[0m \u001b[31m14.7 MB/s\u001b[0m eta \u001b[36m0:00:00\u001b[0m\n",
            "\u001b[?25hRequirement already satisfied: fsspec in /usr/local/lib/python3.10/dist-packages (from gradio-client==0.5.3->gradio) (2023.6.0)\n",
            "Requirement already satisfied: entrypoints in /usr/local/lib/python3.10/dist-packages (from altair<6.0,>=4.2.0->gradio) (0.4)\n",
            "Requirement already satisfied: jsonschema>=3.0 in /usr/local/lib/python3.10/dist-packages (from altair<6.0,>=4.2.0->gradio) (4.19.1)\n",
            "Requirement already satisfied: toolz in /usr/local/lib/python3.10/dist-packages (from altair<6.0,>=4.2.0->gradio) (0.12.0)\n",
            "Requirement already satisfied: filelock in /usr/local/lib/python3.10/dist-packages (from huggingface-hub>=0.14.0->gradio) (3.12.4)\n",
            "Requirement already satisfied: tqdm>=4.42.1 in /usr/local/lib/python3.10/dist-packages (from huggingface-hub>=0.14.0->gradio) (4.66.1)\n",
            "Requirement already satisfied: contourpy>=1.0.1 in /usr/local/lib/python3.10/dist-packages (from matplotlib~=3.0->gradio) (1.1.1)\n",
            "Requirement already satisfied: cycler>=0.10 in /usr/local/lib/python3.10/dist-packages (from matplotlib~=3.0->gradio) (0.12.0)\n",
            "Requirement already satisfied: fonttools>=4.22.0 in /usr/local/lib/python3.10/dist-packages (from matplotlib~=3.0->gradio) (4.43.0)\n",
            "Requirement already satisfied: kiwisolver>=1.0.1 in /usr/local/lib/python3.10/dist-packages (from matplotlib~=3.0->gradio) (1.4.5)\n",
            "Requirement already satisfied: pyparsing>=2.3.1 in /usr/local/lib/python3.10/dist-packages (from matplotlib~=3.0->gradio) (3.1.1)\n",
            "Requirement already satisfied: python-dateutil>=2.7 in /usr/local/lib/python3.10/dist-packages (from matplotlib~=3.0->gradio) (2.8.2)\n",
            "Requirement already satisfied: pytz>=2020.1 in /usr/local/lib/python3.10/dist-packages (from pandas<3.0,>=1.0->gradio) (2023.3.post1)\n",
            "Requirement already satisfied: charset-normalizer<4,>=2 in /usr/local/lib/python3.10/dist-packages (from requests~=2.0->gradio) (3.2.0)\n",
            "Requirement already satisfied: idna<4,>=2.5 in /usr/local/lib/python3.10/dist-packages (from requests~=2.0->gradio) (3.4)\n",
            "Requirement already satisfied: urllib3<3,>=1.21.1 in /usr/local/lib/python3.10/dist-packages (from requests~=2.0->gradio) (2.0.5)\n",
            "Requirement already satisfied: certifi>=2017.4.17 in /usr/local/lib/python3.10/dist-packages (from requests~=2.0->gradio) (2023.7.22)\n",
            "Requirement already satisfied: click>=7.0 in /usr/local/lib/python3.10/dist-packages (from uvicorn>=0.14.0->gradio) (8.1.7)\n",
            "Collecting h11>=0.8 (from uvicorn>=0.14.0->gradio)\n",
            "  Downloading h11-0.14.0-py3-none-any.whl (58 kB)\n",
            "\u001b[2K     \u001b[90m━━━━━━━━━━━━━━━━━━━━━━━━━━━━━━━━━━━━━━━━\u001b[0m \u001b[32m58.3/58.3 kB\u001b[0m \u001b[31m7.1 MB/s\u001b[0m eta \u001b[36m0:00:00\u001b[0m\n",
            "\u001b[?25hRequirement already satisfied: anyio<4.0.0,>=3.7.1 in /usr/local/lib/python3.10/dist-packages (from fastapi->gradio) (3.7.1)\n",
            "Collecting starlette<0.28.0,>=0.27.0 (from fastapi->gradio)\n",
            "  Downloading starlette-0.27.0-py3-none-any.whl (66 kB)\n",
            "\u001b[2K     \u001b[90m━━━━━━━━━━━━━━━━━━━━━━━━━━━━━━━━━━━━━━━━\u001b[0m \u001b[32m67.0/67.0 kB\u001b[0m \u001b[31m7.2 MB/s\u001b[0m eta \u001b[36m0:00:00\u001b[0m\n",
            "\u001b[?25hCollecting httpcore<0.19.0,>=0.18.0 (from httpx->gradio)\n",
            "  Downloading httpcore-0.18.0-py3-none-any.whl (76 kB)\n",
            "\u001b[2K     \u001b[90m━━━━━━━━━━━━━━━━━━━━━━━━━━━━━━━━━━━━━━━━\u001b[0m \u001b[32m76.0/76.0 kB\u001b[0m \u001b[31m8.3 MB/s\u001b[0m eta \u001b[36m0:00:00\u001b[0m\n",
            "\u001b[?25hRequirement already satisfied: sniffio in /usr/local/lib/python3.10/dist-packages (from httpx->gradio) (1.3.0)\n",
            "Requirement already satisfied: exceptiongroup in /usr/local/lib/python3.10/dist-packages (from anyio<4.0.0,>=3.7.1->fastapi->gradio) (1.1.3)\n",
            "Requirement already satisfied: attrs>=22.2.0 in /usr/local/lib/python3.10/dist-packages (from jsonschema>=3.0->altair<6.0,>=4.2.0->gradio) (23.1.0)\n",
            "Requirement already satisfied: jsonschema-specifications>=2023.03.6 in /usr/local/lib/python3.10/dist-packages (from jsonschema>=3.0->altair<6.0,>=4.2.0->gradio) (2023.7.1)\n",
            "Requirement already satisfied: referencing>=0.28.4 in /usr/local/lib/python3.10/dist-packages (from jsonschema>=3.0->altair<6.0,>=4.2.0->gradio) (0.30.2)\n",
            "Requirement already satisfied: rpds-py>=0.7.1 in /usr/local/lib/python3.10/dist-packages (from jsonschema>=3.0->altair<6.0,>=4.2.0->gradio) (0.10.3)\n",
            "Requirement already satisfied: six>=1.5 in /usr/local/lib/python3.10/dist-packages (from python-dateutil>=2.7->matplotlib~=3.0->gradio) (1.16.0)\n",
            "Building wheels for collected packages: ffmpy\n",
            "  Building wheel for ffmpy (setup.py) ... \u001b[?25l\u001b[?25hdone\n",
            "  Created wheel for ffmpy: filename=ffmpy-0.3.1-py3-none-any.whl size=5579 sha256=46cd27489812560e30d3ef4ed3ba994877937343f9b73beb5f746ba2a70d3d60\n",
            "  Stored in directory: /root/.cache/pip/wheels/01/a6/d1/1c0828c304a4283b2c1639a09ad86f83d7c487ef34c6b4a1bf\n",
            "Successfully built ffmpy\n",
            "Installing collected packages: pydub, ffmpy, websockets, semantic-version, python-multipart, orjson, h11, aiofiles, uvicorn, starlette, httpcore, httpx, fastapi, gradio-client, gradio\n",
            "Successfully installed aiofiles-23.2.1 fastapi-0.103.2 ffmpy-0.3.1 gradio-3.46.1 gradio-client-0.5.3 h11-0.14.0 httpcore-0.18.0 httpx-0.25.0 orjson-3.9.7 pydub-0.25.1 python-multipart-0.0.6 semantic-version-2.10.0 starlette-0.27.0 uvicorn-0.23.2 websockets-11.0.3\n"
          ]
        }
      ],
      "source": [
        "!pip install gradio"
      ]
    },
    {
      "cell_type": "code",
      "execution_count": 54,
      "metadata": {
        "colab": {
          "base_uri": "https://localhost:8080/",
          "height": 591
        },
        "id": "rbbFzcbU9l4h",
        "outputId": "d5b5f0f7-698d-4345-9d16-d4949e7e97c4"
      },
      "outputs": [
        {
          "output_type": "stream",
          "name": "stdout",
          "text": [
            "Colab notebook detected. To show errors in colab notebook, set debug=True in launch()\n",
            "Running on public URL: https://b286e60de4ff5b085f.gradio.live\n",
            "\n",
            "This share link expires in 72 hours. For free permanent hosting and GPU upgrades, run `gradio deploy` from Terminal to deploy to Spaces (https://huggingface.co/spaces)\n"
          ]
        },
        {
          "output_type": "display_data",
          "data": {
            "text/plain": [
              "<IPython.core.display.HTML object>"
            ],
            "text/html": [
              "<div><iframe src=\"https://b286e60de4ff5b085f.gradio.live\" width=\"100%\" height=\"500\" allow=\"autoplay; camera; microphone; clipboard-read; clipboard-write;\" frameborder=\"0\" allowfullscreen></iframe></div>"
            ]
          },
          "metadata": {}
        },
        {
          "output_type": "execute_result",
          "data": {
            "text/plain": []
          },
          "metadata": {},
          "execution_count": 54
        }
      ],
      "source": [
        "import gradio as gr\n",
        "\n",
        "def greet(name):\n",
        "    return \"Hello \" + name + \"!\"\n",
        "\n",
        "demo = gr.Interface(fn=greet, inputs=\"text\", outputs=\"text\")\n",
        "\n",
        "demo.launch(share=True)"
      ]
    },
    {
      "cell_type": "code",
      "execution_count": 55,
      "metadata": {
        "colab": {
          "base_uri": "https://localhost:8080/",
          "height": 145,
          "referenced_widgets": [
            "a519437bd55c4b1b9f2c6ff00b47317c",
            "ddd1c6bcf54248f8b30dff35a7405ff5",
            "7f0cd0cba61b475e8dd03f32b643dafa",
            "4041325bb2a54bb9bb5de58b93de846d",
            "96b611cf3f714bdab8aef21cd9e97120",
            "fffb4524ede84673874876feab72dc3e",
            "d7b23cda97d94626a092a0bb81a478ad",
            "6e86bee8fafd415da4604f6572fccda4",
            "479ca28208cf48fc90f26f8dfa1b09c6",
            "a923c9a59b1e4ccf9f3cdb76d5be624e",
            "54bbe557af2f4134b6eeeeb7ad14f7a3",
            "bc933c0d56044b038d42ad39e8be7b45",
            "2e180b41f2d247009089e54b6370e1a1",
            "bf5131386bb342d6bce83021195e9ac7",
            "fc03b4e3ac874ad889b759f8a152a5df",
            "e5334653819e4d33a75946f107df56ff",
            "c34032b87a0047dbb91482518c0f1547",
            "d85a0ad9d33f47d7994f84c5617b6104",
            "fe5b09a14c7f474b95b2efe61613bc65",
            "9a868cdcfbed4e7e91f62cc0ed175bed",
            "4c9ca0735d0e4fd7bc47ba649b026bfa",
            "c744c84d5a2b48118714a79dbe328b3d",
            "5df81bb827094be1b4615a8c74517719",
            "29496eed9074417183cf0d8fc171a614",
            "e065ea6848274fdc9538be7cc0d7f169",
            "5ad6b025985b449c83c409d9a93a1f56",
            "8eee2e9f7f8e4d7e9b19e513bc0749a3",
            "7bbb9152f1d04930b991ee4a51394784",
            "c46e5b2103104b23baeda821c6c9bfdc",
            "b6593d22935e47aa997b90098314add6",
            "03778f4f729e4cc3b4fe3e7e3f83bc69",
            "f5cc399c05da4a3e870e5a4b57b12167"
          ]
        },
        "id": "7mqypFKL9z-Y",
        "outputId": "7ba9d5c6-4e5d-4aaa-b9a1-cb8cf6e2011d"
      },
      "outputs": [
        {
          "output_type": "display_data",
          "data": {
            "text/plain": [
              "VBox(children=(HTML(value='<center> <img\\nsrc=https://huggingface.co/front/assets/huggingface_logo-noborder.sv…"
            ],
            "application/vnd.jupyter.widget-view+json": {
              "version_major": 2,
              "version_minor": 0,
              "model_id": "a519437bd55c4b1b9f2c6ff00b47317c"
            }
          },
          "metadata": {}
        }
      ],
      "source": [
        "from huggingface_hub import notebook_login\n",
        "notebook_login()"
      ]
    },
    {
      "cell_type": "code",
      "execution_count": 56,
      "metadata": {
        "colab": {
          "base_uri": "https://localhost:8080/",
          "height": 84,
          "referenced_widgets": [
            "e726703701704ff2b866819175e0251f",
            "cfb1af2ee4854d609f230a79d3e232a9",
            "928f6158ef8645919180dfc0042e8405",
            "600d1e8e7506469980bde93a0c195643",
            "8b2bf0d63d564978acfb52f226fbaba7",
            "02c39b9c1d26428e96737678ceb40869",
            "3009c199d44f4303860368fa94d09e3c",
            "595fd702daff4f4a8e948939c4f10e7f",
            "afd70699c5aa49a4803bdc0874515195",
            "ae1700e6173340558ad0dd0e0e15e4b6",
            "0813abea3520424382610bdd61319106"
          ]
        },
        "id": "ohjH9P6-CLqe",
        "outputId": "12fb7de0-e2bf-4a7b-edf8-bed7fdf16ea4"
      },
      "outputs": [
        {
          "output_type": "display_data",
          "data": {
            "text/plain": [
              "pytorch_model.bin:   0%|          | 0.00/438M [00:00<?, ?B/s]"
            ],
            "application/vnd.jupyter.widget-view+json": {
              "version_major": 2,
              "version_minor": 0,
              "model_id": "e726703701704ff2b866819175e0251f"
            }
          },
          "metadata": {}
        },
        {
          "output_type": "execute_result",
          "data": {
            "text/plain": [
              "CommitInfo(commit_url='https://huggingface.co/Saisubhasish/test-model/commit/1f81eed40b8d7d61b979325dc981d7eab4481090', commit_message='Upload BertForSequenceClassification', commit_description='', oid='1f81eed40b8d7d61b979325dc981d7eab4481090', pr_url=None, pr_revision=None, pr_num=None)"
            ]
          },
          "metadata": {},
          "execution_count": 56
        }
      ],
      "source": [
        "loaded_model.push_to_hub(\"test-model\")"
      ]
    },
    {
      "cell_type": "code",
      "execution_count": 56,
      "metadata": {
        "id": "9wDdf31gCV6J"
      },
      "outputs": [],
      "source": []
    }
  ],
  "metadata": {
    "colab": {
      "provenance": []
    },
    "kernelspec": {
      "display_name": "Python 3",
      "name": "python3"
    },
    "language_info": {
      "name": "python"
    },
    "widgets": {
      "application/vnd.jupyter.widget-state+json": {
        "a50c3582778b49d497cee9b2c1a4cf45": {
          "model_module": "@jupyter-widgets/controls",
          "model_name": "HBoxModel",
          "model_module_version": "1.5.0",
          "state": {
            "_dom_classes": [],
            "_model_module": "@jupyter-widgets/controls",
            "_model_module_version": "1.5.0",
            "_model_name": "HBoxModel",
            "_view_count": null,
            "_view_module": "@jupyter-widgets/controls",
            "_view_module_version": "1.5.0",
            "_view_name": "HBoxView",
            "box_style": "",
            "children": [
              "IPY_MODEL_231993ba36994f82959be34cf89e2951",
              "IPY_MODEL_708e8786d1c844379dbbdd64de28b272",
              "IPY_MODEL_ae2c8f8f2887425fbddf827164742c9c"
            ],
            "layout": "IPY_MODEL_de05ced7936c4d838a320a013b94152f"
          }
        },
        "231993ba36994f82959be34cf89e2951": {
          "model_module": "@jupyter-widgets/controls",
          "model_name": "HTMLModel",
          "model_module_version": "1.5.0",
          "state": {
            "_dom_classes": [],
            "_model_module": "@jupyter-widgets/controls",
            "_model_module_version": "1.5.0",
            "_model_name": "HTMLModel",
            "_view_count": null,
            "_view_module": "@jupyter-widgets/controls",
            "_view_module_version": "1.5.0",
            "_view_name": "HTMLView",
            "description": "",
            "description_tooltip": null,
            "layout": "IPY_MODEL_9f1f594a1352417489b9dd25ee5e1faa",
            "placeholder": "​",
            "style": "IPY_MODEL_c1b3a7a2e6594b56b184d604e2f0a197",
            "value": "Map: 100%"
          }
        },
        "708e8786d1c844379dbbdd64de28b272": {
          "model_module": "@jupyter-widgets/controls",
          "model_name": "FloatProgressModel",
          "model_module_version": "1.5.0",
          "state": {
            "_dom_classes": [],
            "_model_module": "@jupyter-widgets/controls",
            "_model_module_version": "1.5.0",
            "_model_name": "FloatProgressModel",
            "_view_count": null,
            "_view_module": "@jupyter-widgets/controls",
            "_view_module_version": "1.5.0",
            "_view_name": "ProgressView",
            "bar_style": "success",
            "description": "",
            "description_tooltip": null,
            "layout": "IPY_MODEL_d1393f25ab97457bacbdb5b6171692ad",
            "max": 3668,
            "min": 0,
            "orientation": "horizontal",
            "style": "IPY_MODEL_25dbe1c2f06641fab996b0237457f2a7",
            "value": 3668
          }
        },
        "ae2c8f8f2887425fbddf827164742c9c": {
          "model_module": "@jupyter-widgets/controls",
          "model_name": "HTMLModel",
          "model_module_version": "1.5.0",
          "state": {
            "_dom_classes": [],
            "_model_module": "@jupyter-widgets/controls",
            "_model_module_version": "1.5.0",
            "_model_name": "HTMLModel",
            "_view_count": null,
            "_view_module": "@jupyter-widgets/controls",
            "_view_module_version": "1.5.0",
            "_view_name": "HTMLView",
            "description": "",
            "description_tooltip": null,
            "layout": "IPY_MODEL_439948a1570e49afaa2bb136c7cd0640",
            "placeholder": "​",
            "style": "IPY_MODEL_22defeb210c840cfbcf73def1460032b",
            "value": " 3668/3668 [00:02&lt;00:00, 1377.31 examples/s]"
          }
        },
        "de05ced7936c4d838a320a013b94152f": {
          "model_module": "@jupyter-widgets/base",
          "model_name": "LayoutModel",
          "model_module_version": "1.2.0",
          "state": {
            "_model_module": "@jupyter-widgets/base",
            "_model_module_version": "1.2.0",
            "_model_name": "LayoutModel",
            "_view_count": null,
            "_view_module": "@jupyter-widgets/base",
            "_view_module_version": "1.2.0",
            "_view_name": "LayoutView",
            "align_content": null,
            "align_items": null,
            "align_self": null,
            "border": null,
            "bottom": null,
            "display": null,
            "flex": null,
            "flex_flow": null,
            "grid_area": null,
            "grid_auto_columns": null,
            "grid_auto_flow": null,
            "grid_auto_rows": null,
            "grid_column": null,
            "grid_gap": null,
            "grid_row": null,
            "grid_template_areas": null,
            "grid_template_columns": null,
            "grid_template_rows": null,
            "height": null,
            "justify_content": null,
            "justify_items": null,
            "left": null,
            "margin": null,
            "max_height": null,
            "max_width": null,
            "min_height": null,
            "min_width": null,
            "object_fit": null,
            "object_position": null,
            "order": null,
            "overflow": null,
            "overflow_x": null,
            "overflow_y": null,
            "padding": null,
            "right": null,
            "top": null,
            "visibility": null,
            "width": null
          }
        },
        "9f1f594a1352417489b9dd25ee5e1faa": {
          "model_module": "@jupyter-widgets/base",
          "model_name": "LayoutModel",
          "model_module_version": "1.2.0",
          "state": {
            "_model_module": "@jupyter-widgets/base",
            "_model_module_version": "1.2.0",
            "_model_name": "LayoutModel",
            "_view_count": null,
            "_view_module": "@jupyter-widgets/base",
            "_view_module_version": "1.2.0",
            "_view_name": "LayoutView",
            "align_content": null,
            "align_items": null,
            "align_self": null,
            "border": null,
            "bottom": null,
            "display": null,
            "flex": null,
            "flex_flow": null,
            "grid_area": null,
            "grid_auto_columns": null,
            "grid_auto_flow": null,
            "grid_auto_rows": null,
            "grid_column": null,
            "grid_gap": null,
            "grid_row": null,
            "grid_template_areas": null,
            "grid_template_columns": null,
            "grid_template_rows": null,
            "height": null,
            "justify_content": null,
            "justify_items": null,
            "left": null,
            "margin": null,
            "max_height": null,
            "max_width": null,
            "min_height": null,
            "min_width": null,
            "object_fit": null,
            "object_position": null,
            "order": null,
            "overflow": null,
            "overflow_x": null,
            "overflow_y": null,
            "padding": null,
            "right": null,
            "top": null,
            "visibility": null,
            "width": null
          }
        },
        "c1b3a7a2e6594b56b184d604e2f0a197": {
          "model_module": "@jupyter-widgets/controls",
          "model_name": "DescriptionStyleModel",
          "model_module_version": "1.5.0",
          "state": {
            "_model_module": "@jupyter-widgets/controls",
            "_model_module_version": "1.5.0",
            "_model_name": "DescriptionStyleModel",
            "_view_count": null,
            "_view_module": "@jupyter-widgets/base",
            "_view_module_version": "1.2.0",
            "_view_name": "StyleView",
            "description_width": ""
          }
        },
        "d1393f25ab97457bacbdb5b6171692ad": {
          "model_module": "@jupyter-widgets/base",
          "model_name": "LayoutModel",
          "model_module_version": "1.2.0",
          "state": {
            "_model_module": "@jupyter-widgets/base",
            "_model_module_version": "1.2.0",
            "_model_name": "LayoutModel",
            "_view_count": null,
            "_view_module": "@jupyter-widgets/base",
            "_view_module_version": "1.2.0",
            "_view_name": "LayoutView",
            "align_content": null,
            "align_items": null,
            "align_self": null,
            "border": null,
            "bottom": null,
            "display": null,
            "flex": null,
            "flex_flow": null,
            "grid_area": null,
            "grid_auto_columns": null,
            "grid_auto_flow": null,
            "grid_auto_rows": null,
            "grid_column": null,
            "grid_gap": null,
            "grid_row": null,
            "grid_template_areas": null,
            "grid_template_columns": null,
            "grid_template_rows": null,
            "height": null,
            "justify_content": null,
            "justify_items": null,
            "left": null,
            "margin": null,
            "max_height": null,
            "max_width": null,
            "min_height": null,
            "min_width": null,
            "object_fit": null,
            "object_position": null,
            "order": null,
            "overflow": null,
            "overflow_x": null,
            "overflow_y": null,
            "padding": null,
            "right": null,
            "top": null,
            "visibility": null,
            "width": null
          }
        },
        "25dbe1c2f06641fab996b0237457f2a7": {
          "model_module": "@jupyter-widgets/controls",
          "model_name": "ProgressStyleModel",
          "model_module_version": "1.5.0",
          "state": {
            "_model_module": "@jupyter-widgets/controls",
            "_model_module_version": "1.5.0",
            "_model_name": "ProgressStyleModel",
            "_view_count": null,
            "_view_module": "@jupyter-widgets/base",
            "_view_module_version": "1.2.0",
            "_view_name": "StyleView",
            "bar_color": null,
            "description_width": ""
          }
        },
        "439948a1570e49afaa2bb136c7cd0640": {
          "model_module": "@jupyter-widgets/base",
          "model_name": "LayoutModel",
          "model_module_version": "1.2.0",
          "state": {
            "_model_module": "@jupyter-widgets/base",
            "_model_module_version": "1.2.0",
            "_model_name": "LayoutModel",
            "_view_count": null,
            "_view_module": "@jupyter-widgets/base",
            "_view_module_version": "1.2.0",
            "_view_name": "LayoutView",
            "align_content": null,
            "align_items": null,
            "align_self": null,
            "border": null,
            "bottom": null,
            "display": null,
            "flex": null,
            "flex_flow": null,
            "grid_area": null,
            "grid_auto_columns": null,
            "grid_auto_flow": null,
            "grid_auto_rows": null,
            "grid_column": null,
            "grid_gap": null,
            "grid_row": null,
            "grid_template_areas": null,
            "grid_template_columns": null,
            "grid_template_rows": null,
            "height": null,
            "justify_content": null,
            "justify_items": null,
            "left": null,
            "margin": null,
            "max_height": null,
            "max_width": null,
            "min_height": null,
            "min_width": null,
            "object_fit": null,
            "object_position": null,
            "order": null,
            "overflow": null,
            "overflow_x": null,
            "overflow_y": null,
            "padding": null,
            "right": null,
            "top": null,
            "visibility": null,
            "width": null
          }
        },
        "22defeb210c840cfbcf73def1460032b": {
          "model_module": "@jupyter-widgets/controls",
          "model_name": "DescriptionStyleModel",
          "model_module_version": "1.5.0",
          "state": {
            "_model_module": "@jupyter-widgets/controls",
            "_model_module_version": "1.5.0",
            "_model_name": "DescriptionStyleModel",
            "_view_count": null,
            "_view_module": "@jupyter-widgets/base",
            "_view_module_version": "1.2.0",
            "_view_name": "StyleView",
            "description_width": ""
          }
        },
        "dace6e0486a0444db72b14543f2c8a1a": {
          "model_module": "@jupyter-widgets/controls",
          "model_name": "HBoxModel",
          "model_module_version": "1.5.0",
          "state": {
            "_dom_classes": [],
            "_model_module": "@jupyter-widgets/controls",
            "_model_module_version": "1.5.0",
            "_model_name": "HBoxModel",
            "_view_count": null,
            "_view_module": "@jupyter-widgets/controls",
            "_view_module_version": "1.5.0",
            "_view_name": "HBoxView",
            "box_style": "",
            "children": [
              "IPY_MODEL_43996fad60714f25b031cb7b840cbb67",
              "IPY_MODEL_41683767a5a3440d8bd98363b8def47b",
              "IPY_MODEL_fbd9fa5a3aa04f7ca7ea1c34e2eb0d33"
            ],
            "layout": "IPY_MODEL_ff556fc6beac437ba9fe1e637a462613"
          }
        },
        "43996fad60714f25b031cb7b840cbb67": {
          "model_module": "@jupyter-widgets/controls",
          "model_name": "HTMLModel",
          "model_module_version": "1.5.0",
          "state": {
            "_dom_classes": [],
            "_model_module": "@jupyter-widgets/controls",
            "_model_module_version": "1.5.0",
            "_model_name": "HTMLModel",
            "_view_count": null,
            "_view_module": "@jupyter-widgets/controls",
            "_view_module_version": "1.5.0",
            "_view_name": "HTMLView",
            "description": "",
            "description_tooltip": null,
            "layout": "IPY_MODEL_9437fedb51a743f095d4853b4b8c5585",
            "placeholder": "​",
            "style": "IPY_MODEL_58c4790c5e184d14ab754d856d5dbf01",
            "value": "Map: 100%"
          }
        },
        "41683767a5a3440d8bd98363b8def47b": {
          "model_module": "@jupyter-widgets/controls",
          "model_name": "FloatProgressModel",
          "model_module_version": "1.5.0",
          "state": {
            "_dom_classes": [],
            "_model_module": "@jupyter-widgets/controls",
            "_model_module_version": "1.5.0",
            "_model_name": "FloatProgressModel",
            "_view_count": null,
            "_view_module": "@jupyter-widgets/controls",
            "_view_module_version": "1.5.0",
            "_view_name": "ProgressView",
            "bar_style": "success",
            "description": "",
            "description_tooltip": null,
            "layout": "IPY_MODEL_4d8d5093362a45ffa34495655e3f17f4",
            "max": 408,
            "min": 0,
            "orientation": "horizontal",
            "style": "IPY_MODEL_b3455b3cdb91407ba0a2c332df42eb8c",
            "value": 408
          }
        },
        "fbd9fa5a3aa04f7ca7ea1c34e2eb0d33": {
          "model_module": "@jupyter-widgets/controls",
          "model_name": "HTMLModel",
          "model_module_version": "1.5.0",
          "state": {
            "_dom_classes": [],
            "_model_module": "@jupyter-widgets/controls",
            "_model_module_version": "1.5.0",
            "_model_name": "HTMLModel",
            "_view_count": null,
            "_view_module": "@jupyter-widgets/controls",
            "_view_module_version": "1.5.0",
            "_view_name": "HTMLView",
            "description": "",
            "description_tooltip": null,
            "layout": "IPY_MODEL_8cde8c1b2f634ddfab0adfc3cd574a0b",
            "placeholder": "​",
            "style": "IPY_MODEL_1134e1a724b7448aae267ef818dfeefd",
            "value": " 408/408 [00:00&lt;00:00, 1130.38 examples/s]"
          }
        },
        "ff556fc6beac437ba9fe1e637a462613": {
          "model_module": "@jupyter-widgets/base",
          "model_name": "LayoutModel",
          "model_module_version": "1.2.0",
          "state": {
            "_model_module": "@jupyter-widgets/base",
            "_model_module_version": "1.2.0",
            "_model_name": "LayoutModel",
            "_view_count": null,
            "_view_module": "@jupyter-widgets/base",
            "_view_module_version": "1.2.0",
            "_view_name": "LayoutView",
            "align_content": null,
            "align_items": null,
            "align_self": null,
            "border": null,
            "bottom": null,
            "display": null,
            "flex": null,
            "flex_flow": null,
            "grid_area": null,
            "grid_auto_columns": null,
            "grid_auto_flow": null,
            "grid_auto_rows": null,
            "grid_column": null,
            "grid_gap": null,
            "grid_row": null,
            "grid_template_areas": null,
            "grid_template_columns": null,
            "grid_template_rows": null,
            "height": null,
            "justify_content": null,
            "justify_items": null,
            "left": null,
            "margin": null,
            "max_height": null,
            "max_width": null,
            "min_height": null,
            "min_width": null,
            "object_fit": null,
            "object_position": null,
            "order": null,
            "overflow": null,
            "overflow_x": null,
            "overflow_y": null,
            "padding": null,
            "right": null,
            "top": null,
            "visibility": null,
            "width": null
          }
        },
        "9437fedb51a743f095d4853b4b8c5585": {
          "model_module": "@jupyter-widgets/base",
          "model_name": "LayoutModel",
          "model_module_version": "1.2.0",
          "state": {
            "_model_module": "@jupyter-widgets/base",
            "_model_module_version": "1.2.0",
            "_model_name": "LayoutModel",
            "_view_count": null,
            "_view_module": "@jupyter-widgets/base",
            "_view_module_version": "1.2.0",
            "_view_name": "LayoutView",
            "align_content": null,
            "align_items": null,
            "align_self": null,
            "border": null,
            "bottom": null,
            "display": null,
            "flex": null,
            "flex_flow": null,
            "grid_area": null,
            "grid_auto_columns": null,
            "grid_auto_flow": null,
            "grid_auto_rows": null,
            "grid_column": null,
            "grid_gap": null,
            "grid_row": null,
            "grid_template_areas": null,
            "grid_template_columns": null,
            "grid_template_rows": null,
            "height": null,
            "justify_content": null,
            "justify_items": null,
            "left": null,
            "margin": null,
            "max_height": null,
            "max_width": null,
            "min_height": null,
            "min_width": null,
            "object_fit": null,
            "object_position": null,
            "order": null,
            "overflow": null,
            "overflow_x": null,
            "overflow_y": null,
            "padding": null,
            "right": null,
            "top": null,
            "visibility": null,
            "width": null
          }
        },
        "58c4790c5e184d14ab754d856d5dbf01": {
          "model_module": "@jupyter-widgets/controls",
          "model_name": "DescriptionStyleModel",
          "model_module_version": "1.5.0",
          "state": {
            "_model_module": "@jupyter-widgets/controls",
            "_model_module_version": "1.5.0",
            "_model_name": "DescriptionStyleModel",
            "_view_count": null,
            "_view_module": "@jupyter-widgets/base",
            "_view_module_version": "1.2.0",
            "_view_name": "StyleView",
            "description_width": ""
          }
        },
        "4d8d5093362a45ffa34495655e3f17f4": {
          "model_module": "@jupyter-widgets/base",
          "model_name": "LayoutModel",
          "model_module_version": "1.2.0",
          "state": {
            "_model_module": "@jupyter-widgets/base",
            "_model_module_version": "1.2.0",
            "_model_name": "LayoutModel",
            "_view_count": null,
            "_view_module": "@jupyter-widgets/base",
            "_view_module_version": "1.2.0",
            "_view_name": "LayoutView",
            "align_content": null,
            "align_items": null,
            "align_self": null,
            "border": null,
            "bottom": null,
            "display": null,
            "flex": null,
            "flex_flow": null,
            "grid_area": null,
            "grid_auto_columns": null,
            "grid_auto_flow": null,
            "grid_auto_rows": null,
            "grid_column": null,
            "grid_gap": null,
            "grid_row": null,
            "grid_template_areas": null,
            "grid_template_columns": null,
            "grid_template_rows": null,
            "height": null,
            "justify_content": null,
            "justify_items": null,
            "left": null,
            "margin": null,
            "max_height": null,
            "max_width": null,
            "min_height": null,
            "min_width": null,
            "object_fit": null,
            "object_position": null,
            "order": null,
            "overflow": null,
            "overflow_x": null,
            "overflow_y": null,
            "padding": null,
            "right": null,
            "top": null,
            "visibility": null,
            "width": null
          }
        },
        "b3455b3cdb91407ba0a2c332df42eb8c": {
          "model_module": "@jupyter-widgets/controls",
          "model_name": "ProgressStyleModel",
          "model_module_version": "1.5.0",
          "state": {
            "_model_module": "@jupyter-widgets/controls",
            "_model_module_version": "1.5.0",
            "_model_name": "ProgressStyleModel",
            "_view_count": null,
            "_view_module": "@jupyter-widgets/base",
            "_view_module_version": "1.2.0",
            "_view_name": "StyleView",
            "bar_color": null,
            "description_width": ""
          }
        },
        "8cde8c1b2f634ddfab0adfc3cd574a0b": {
          "model_module": "@jupyter-widgets/base",
          "model_name": "LayoutModel",
          "model_module_version": "1.2.0",
          "state": {
            "_model_module": "@jupyter-widgets/base",
            "_model_module_version": "1.2.0",
            "_model_name": "LayoutModel",
            "_view_count": null,
            "_view_module": "@jupyter-widgets/base",
            "_view_module_version": "1.2.0",
            "_view_name": "LayoutView",
            "align_content": null,
            "align_items": null,
            "align_self": null,
            "border": null,
            "bottom": null,
            "display": null,
            "flex": null,
            "flex_flow": null,
            "grid_area": null,
            "grid_auto_columns": null,
            "grid_auto_flow": null,
            "grid_auto_rows": null,
            "grid_column": null,
            "grid_gap": null,
            "grid_row": null,
            "grid_template_areas": null,
            "grid_template_columns": null,
            "grid_template_rows": null,
            "height": null,
            "justify_content": null,
            "justify_items": null,
            "left": null,
            "margin": null,
            "max_height": null,
            "max_width": null,
            "min_height": null,
            "min_width": null,
            "object_fit": null,
            "object_position": null,
            "order": null,
            "overflow": null,
            "overflow_x": null,
            "overflow_y": null,
            "padding": null,
            "right": null,
            "top": null,
            "visibility": null,
            "width": null
          }
        },
        "1134e1a724b7448aae267ef818dfeefd": {
          "model_module": "@jupyter-widgets/controls",
          "model_name": "DescriptionStyleModel",
          "model_module_version": "1.5.0",
          "state": {
            "_model_module": "@jupyter-widgets/controls",
            "_model_module_version": "1.5.0",
            "_model_name": "DescriptionStyleModel",
            "_view_count": null,
            "_view_module": "@jupyter-widgets/base",
            "_view_module_version": "1.2.0",
            "_view_name": "StyleView",
            "description_width": ""
          }
        },
        "b150e669276547d7a02f5c197cbdedb0": {
          "model_module": "@jupyter-widgets/controls",
          "model_name": "HBoxModel",
          "model_module_version": "1.5.0",
          "state": {
            "_dom_classes": [],
            "_model_module": "@jupyter-widgets/controls",
            "_model_module_version": "1.5.0",
            "_model_name": "HBoxModel",
            "_view_count": null,
            "_view_module": "@jupyter-widgets/controls",
            "_view_module_version": "1.5.0",
            "_view_name": "HBoxView",
            "box_style": "",
            "children": [
              "IPY_MODEL_dab283cb585f45a5b705c1b5b66c133c",
              "IPY_MODEL_080c1bca19d1486880fec79c4fab8710",
              "IPY_MODEL_c5cfb97005c5454c8cf91279ce1d74eb"
            ],
            "layout": "IPY_MODEL_d6c392a600354414a696af71a899228f"
          }
        },
        "dab283cb585f45a5b705c1b5b66c133c": {
          "model_module": "@jupyter-widgets/controls",
          "model_name": "HTMLModel",
          "model_module_version": "1.5.0",
          "state": {
            "_dom_classes": [],
            "_model_module": "@jupyter-widgets/controls",
            "_model_module_version": "1.5.0",
            "_model_name": "HTMLModel",
            "_view_count": null,
            "_view_module": "@jupyter-widgets/controls",
            "_view_module_version": "1.5.0",
            "_view_name": "HTMLView",
            "description": "",
            "description_tooltip": null,
            "layout": "IPY_MODEL_6d9bb476965b4de09943f112588b757b",
            "placeholder": "​",
            "style": "IPY_MODEL_6b41171bc51040dca9eecd5b12993424",
            "value": "Map: 100%"
          }
        },
        "080c1bca19d1486880fec79c4fab8710": {
          "model_module": "@jupyter-widgets/controls",
          "model_name": "FloatProgressModel",
          "model_module_version": "1.5.0",
          "state": {
            "_dom_classes": [],
            "_model_module": "@jupyter-widgets/controls",
            "_model_module_version": "1.5.0",
            "_model_name": "FloatProgressModel",
            "_view_count": null,
            "_view_module": "@jupyter-widgets/controls",
            "_view_module_version": "1.5.0",
            "_view_name": "ProgressView",
            "bar_style": "success",
            "description": "",
            "description_tooltip": null,
            "layout": "IPY_MODEL_2e9637d9e8bb4e8ea8ef4fb3f6c79e31",
            "max": 1725,
            "min": 0,
            "orientation": "horizontal",
            "style": "IPY_MODEL_ce647a69afe545d381a7aa799acd9bc3",
            "value": 1725
          }
        },
        "c5cfb97005c5454c8cf91279ce1d74eb": {
          "model_module": "@jupyter-widgets/controls",
          "model_name": "HTMLModel",
          "model_module_version": "1.5.0",
          "state": {
            "_dom_classes": [],
            "_model_module": "@jupyter-widgets/controls",
            "_model_module_version": "1.5.0",
            "_model_name": "HTMLModel",
            "_view_count": null,
            "_view_module": "@jupyter-widgets/controls",
            "_view_module_version": "1.5.0",
            "_view_name": "HTMLView",
            "description": "",
            "description_tooltip": null,
            "layout": "IPY_MODEL_a1fdc3e9e97d405581fe34997e4661e3",
            "placeholder": "​",
            "style": "IPY_MODEL_2c1c788060e1491ea27a480f8fe6a9ac",
            "value": " 1725/1725 [00:01&lt;00:00, 1090.05 examples/s]"
          }
        },
        "d6c392a600354414a696af71a899228f": {
          "model_module": "@jupyter-widgets/base",
          "model_name": "LayoutModel",
          "model_module_version": "1.2.0",
          "state": {
            "_model_module": "@jupyter-widgets/base",
            "_model_module_version": "1.2.0",
            "_model_name": "LayoutModel",
            "_view_count": null,
            "_view_module": "@jupyter-widgets/base",
            "_view_module_version": "1.2.0",
            "_view_name": "LayoutView",
            "align_content": null,
            "align_items": null,
            "align_self": null,
            "border": null,
            "bottom": null,
            "display": null,
            "flex": null,
            "flex_flow": null,
            "grid_area": null,
            "grid_auto_columns": null,
            "grid_auto_flow": null,
            "grid_auto_rows": null,
            "grid_column": null,
            "grid_gap": null,
            "grid_row": null,
            "grid_template_areas": null,
            "grid_template_columns": null,
            "grid_template_rows": null,
            "height": null,
            "justify_content": null,
            "justify_items": null,
            "left": null,
            "margin": null,
            "max_height": null,
            "max_width": null,
            "min_height": null,
            "min_width": null,
            "object_fit": null,
            "object_position": null,
            "order": null,
            "overflow": null,
            "overflow_x": null,
            "overflow_y": null,
            "padding": null,
            "right": null,
            "top": null,
            "visibility": null,
            "width": null
          }
        },
        "6d9bb476965b4de09943f112588b757b": {
          "model_module": "@jupyter-widgets/base",
          "model_name": "LayoutModel",
          "model_module_version": "1.2.0",
          "state": {
            "_model_module": "@jupyter-widgets/base",
            "_model_module_version": "1.2.0",
            "_model_name": "LayoutModel",
            "_view_count": null,
            "_view_module": "@jupyter-widgets/base",
            "_view_module_version": "1.2.0",
            "_view_name": "LayoutView",
            "align_content": null,
            "align_items": null,
            "align_self": null,
            "border": null,
            "bottom": null,
            "display": null,
            "flex": null,
            "flex_flow": null,
            "grid_area": null,
            "grid_auto_columns": null,
            "grid_auto_flow": null,
            "grid_auto_rows": null,
            "grid_column": null,
            "grid_gap": null,
            "grid_row": null,
            "grid_template_areas": null,
            "grid_template_columns": null,
            "grid_template_rows": null,
            "height": null,
            "justify_content": null,
            "justify_items": null,
            "left": null,
            "margin": null,
            "max_height": null,
            "max_width": null,
            "min_height": null,
            "min_width": null,
            "object_fit": null,
            "object_position": null,
            "order": null,
            "overflow": null,
            "overflow_x": null,
            "overflow_y": null,
            "padding": null,
            "right": null,
            "top": null,
            "visibility": null,
            "width": null
          }
        },
        "6b41171bc51040dca9eecd5b12993424": {
          "model_module": "@jupyter-widgets/controls",
          "model_name": "DescriptionStyleModel",
          "model_module_version": "1.5.0",
          "state": {
            "_model_module": "@jupyter-widgets/controls",
            "_model_module_version": "1.5.0",
            "_model_name": "DescriptionStyleModel",
            "_view_count": null,
            "_view_module": "@jupyter-widgets/base",
            "_view_module_version": "1.2.0",
            "_view_name": "StyleView",
            "description_width": ""
          }
        },
        "2e9637d9e8bb4e8ea8ef4fb3f6c79e31": {
          "model_module": "@jupyter-widgets/base",
          "model_name": "LayoutModel",
          "model_module_version": "1.2.0",
          "state": {
            "_model_module": "@jupyter-widgets/base",
            "_model_module_version": "1.2.0",
            "_model_name": "LayoutModel",
            "_view_count": null,
            "_view_module": "@jupyter-widgets/base",
            "_view_module_version": "1.2.0",
            "_view_name": "LayoutView",
            "align_content": null,
            "align_items": null,
            "align_self": null,
            "border": null,
            "bottom": null,
            "display": null,
            "flex": null,
            "flex_flow": null,
            "grid_area": null,
            "grid_auto_columns": null,
            "grid_auto_flow": null,
            "grid_auto_rows": null,
            "grid_column": null,
            "grid_gap": null,
            "grid_row": null,
            "grid_template_areas": null,
            "grid_template_columns": null,
            "grid_template_rows": null,
            "height": null,
            "justify_content": null,
            "justify_items": null,
            "left": null,
            "margin": null,
            "max_height": null,
            "max_width": null,
            "min_height": null,
            "min_width": null,
            "object_fit": null,
            "object_position": null,
            "order": null,
            "overflow": null,
            "overflow_x": null,
            "overflow_y": null,
            "padding": null,
            "right": null,
            "top": null,
            "visibility": null,
            "width": null
          }
        },
        "ce647a69afe545d381a7aa799acd9bc3": {
          "model_module": "@jupyter-widgets/controls",
          "model_name": "ProgressStyleModel",
          "model_module_version": "1.5.0",
          "state": {
            "_model_module": "@jupyter-widgets/controls",
            "_model_module_version": "1.5.0",
            "_model_name": "ProgressStyleModel",
            "_view_count": null,
            "_view_module": "@jupyter-widgets/base",
            "_view_module_version": "1.2.0",
            "_view_name": "StyleView",
            "bar_color": null,
            "description_width": ""
          }
        },
        "a1fdc3e9e97d405581fe34997e4661e3": {
          "model_module": "@jupyter-widgets/base",
          "model_name": "LayoutModel",
          "model_module_version": "1.2.0",
          "state": {
            "_model_module": "@jupyter-widgets/base",
            "_model_module_version": "1.2.0",
            "_model_name": "LayoutModel",
            "_view_count": null,
            "_view_module": "@jupyter-widgets/base",
            "_view_module_version": "1.2.0",
            "_view_name": "LayoutView",
            "align_content": null,
            "align_items": null,
            "align_self": null,
            "border": null,
            "bottom": null,
            "display": null,
            "flex": null,
            "flex_flow": null,
            "grid_area": null,
            "grid_auto_columns": null,
            "grid_auto_flow": null,
            "grid_auto_rows": null,
            "grid_column": null,
            "grid_gap": null,
            "grid_row": null,
            "grid_template_areas": null,
            "grid_template_columns": null,
            "grid_template_rows": null,
            "height": null,
            "justify_content": null,
            "justify_items": null,
            "left": null,
            "margin": null,
            "max_height": null,
            "max_width": null,
            "min_height": null,
            "min_width": null,
            "object_fit": null,
            "object_position": null,
            "order": null,
            "overflow": null,
            "overflow_x": null,
            "overflow_y": null,
            "padding": null,
            "right": null,
            "top": null,
            "visibility": null,
            "width": null
          }
        },
        "2c1c788060e1491ea27a480f8fe6a9ac": {
          "model_module": "@jupyter-widgets/controls",
          "model_name": "DescriptionStyleModel",
          "model_module_version": "1.5.0",
          "state": {
            "_model_module": "@jupyter-widgets/controls",
            "_model_module_version": "1.5.0",
            "_model_name": "DescriptionStyleModel",
            "_view_count": null,
            "_view_module": "@jupyter-widgets/base",
            "_view_module_version": "1.2.0",
            "_view_name": "StyleView",
            "description_width": ""
          }
        },
        "a519437bd55c4b1b9f2c6ff00b47317c": {
          "model_module": "@jupyter-widgets/controls",
          "model_name": "VBoxModel",
          "model_module_version": "1.5.0",
          "state": {
            "_dom_classes": [],
            "_model_module": "@jupyter-widgets/controls",
            "_model_module_version": "1.5.0",
            "_model_name": "VBoxModel",
            "_view_count": null,
            "_view_module": "@jupyter-widgets/controls",
            "_view_module_version": "1.5.0",
            "_view_name": "VBoxView",
            "box_style": "",
            "children": [
              "IPY_MODEL_4c9ca0735d0e4fd7bc47ba649b026bfa",
              "IPY_MODEL_c744c84d5a2b48118714a79dbe328b3d",
              "IPY_MODEL_5df81bb827094be1b4615a8c74517719",
              "IPY_MODEL_29496eed9074417183cf0d8fc171a614"
            ],
            "layout": "IPY_MODEL_d7b23cda97d94626a092a0bb81a478ad"
          }
        },
        "ddd1c6bcf54248f8b30dff35a7405ff5": {
          "model_module": "@jupyter-widgets/controls",
          "model_name": "HTMLModel",
          "model_module_version": "1.5.0",
          "state": {
            "_dom_classes": [],
            "_model_module": "@jupyter-widgets/controls",
            "_model_module_version": "1.5.0",
            "_model_name": "HTMLModel",
            "_view_count": null,
            "_view_module": "@jupyter-widgets/controls",
            "_view_module_version": "1.5.0",
            "_view_name": "HTMLView",
            "description": "",
            "description_tooltip": null,
            "layout": "IPY_MODEL_6e86bee8fafd415da4604f6572fccda4",
            "placeholder": "​",
            "style": "IPY_MODEL_479ca28208cf48fc90f26f8dfa1b09c6",
            "value": "<center> <img\nsrc=https://huggingface.co/front/assets/huggingface_logo-noborder.svg\nalt='Hugging Face'> <br> Copy a token from <a\nhref=\"https://huggingface.co/settings/tokens\" target=\"_blank\">your Hugging Face\ntokens page</a> and paste it below. <br> Immediately click login after copying\nyour token or it might be stored in plain text in this notebook file. </center>"
          }
        },
        "7f0cd0cba61b475e8dd03f32b643dafa": {
          "model_module": "@jupyter-widgets/controls",
          "model_name": "PasswordModel",
          "model_module_version": "1.5.0",
          "state": {
            "_dom_classes": [],
            "_model_module": "@jupyter-widgets/controls",
            "_model_module_version": "1.5.0",
            "_model_name": "PasswordModel",
            "_view_count": null,
            "_view_module": "@jupyter-widgets/controls",
            "_view_module_version": "1.5.0",
            "_view_name": "PasswordView",
            "continuous_update": true,
            "description": "Token:",
            "description_tooltip": null,
            "disabled": false,
            "layout": "IPY_MODEL_a923c9a59b1e4ccf9f3cdb76d5be624e",
            "placeholder": "​",
            "style": "IPY_MODEL_54bbe557af2f4134b6eeeeb7ad14f7a3",
            "value": ""
          }
        },
        "4041325bb2a54bb9bb5de58b93de846d": {
          "model_module": "@jupyter-widgets/controls",
          "model_name": "CheckboxModel",
          "model_module_version": "1.5.0",
          "state": {
            "_dom_classes": [],
            "_model_module": "@jupyter-widgets/controls",
            "_model_module_version": "1.5.0",
            "_model_name": "CheckboxModel",
            "_view_count": null,
            "_view_module": "@jupyter-widgets/controls",
            "_view_module_version": "1.5.0",
            "_view_name": "CheckboxView",
            "description": "Add token as git credential?",
            "description_tooltip": null,
            "disabled": false,
            "indent": true,
            "layout": "IPY_MODEL_bc933c0d56044b038d42ad39e8be7b45",
            "style": "IPY_MODEL_2e180b41f2d247009089e54b6370e1a1",
            "value": true
          }
        },
        "96b611cf3f714bdab8aef21cd9e97120": {
          "model_module": "@jupyter-widgets/controls",
          "model_name": "ButtonModel",
          "model_module_version": "1.5.0",
          "state": {
            "_dom_classes": [],
            "_model_module": "@jupyter-widgets/controls",
            "_model_module_version": "1.5.0",
            "_model_name": "ButtonModel",
            "_view_count": null,
            "_view_module": "@jupyter-widgets/controls",
            "_view_module_version": "1.5.0",
            "_view_name": "ButtonView",
            "button_style": "",
            "description": "Login",
            "disabled": false,
            "icon": "",
            "layout": "IPY_MODEL_bf5131386bb342d6bce83021195e9ac7",
            "style": "IPY_MODEL_fc03b4e3ac874ad889b759f8a152a5df",
            "tooltip": ""
          }
        },
        "fffb4524ede84673874876feab72dc3e": {
          "model_module": "@jupyter-widgets/controls",
          "model_name": "HTMLModel",
          "model_module_version": "1.5.0",
          "state": {
            "_dom_classes": [],
            "_model_module": "@jupyter-widgets/controls",
            "_model_module_version": "1.5.0",
            "_model_name": "HTMLModel",
            "_view_count": null,
            "_view_module": "@jupyter-widgets/controls",
            "_view_module_version": "1.5.0",
            "_view_name": "HTMLView",
            "description": "",
            "description_tooltip": null,
            "layout": "IPY_MODEL_e5334653819e4d33a75946f107df56ff",
            "placeholder": "​",
            "style": "IPY_MODEL_c34032b87a0047dbb91482518c0f1547",
            "value": "\n<b>Pro Tip:</b> If you don't already have one, you can create a dedicated\n'notebooks' token with 'write' access, that you can then easily reuse for all\nnotebooks. </center>"
          }
        },
        "d7b23cda97d94626a092a0bb81a478ad": {
          "model_module": "@jupyter-widgets/base",
          "model_name": "LayoutModel",
          "model_module_version": "1.2.0",
          "state": {
            "_model_module": "@jupyter-widgets/base",
            "_model_module_version": "1.2.0",
            "_model_name": "LayoutModel",
            "_view_count": null,
            "_view_module": "@jupyter-widgets/base",
            "_view_module_version": "1.2.0",
            "_view_name": "LayoutView",
            "align_content": null,
            "align_items": "center",
            "align_self": null,
            "border": null,
            "bottom": null,
            "display": "flex",
            "flex": null,
            "flex_flow": "column",
            "grid_area": null,
            "grid_auto_columns": null,
            "grid_auto_flow": null,
            "grid_auto_rows": null,
            "grid_column": null,
            "grid_gap": null,
            "grid_row": null,
            "grid_template_areas": null,
            "grid_template_columns": null,
            "grid_template_rows": null,
            "height": null,
            "justify_content": null,
            "justify_items": null,
            "left": null,
            "margin": null,
            "max_height": null,
            "max_width": null,
            "min_height": null,
            "min_width": null,
            "object_fit": null,
            "object_position": null,
            "order": null,
            "overflow": null,
            "overflow_x": null,
            "overflow_y": null,
            "padding": null,
            "right": null,
            "top": null,
            "visibility": null,
            "width": "50%"
          }
        },
        "6e86bee8fafd415da4604f6572fccda4": {
          "model_module": "@jupyter-widgets/base",
          "model_name": "LayoutModel",
          "model_module_version": "1.2.0",
          "state": {
            "_model_module": "@jupyter-widgets/base",
            "_model_module_version": "1.2.0",
            "_model_name": "LayoutModel",
            "_view_count": null,
            "_view_module": "@jupyter-widgets/base",
            "_view_module_version": "1.2.0",
            "_view_name": "LayoutView",
            "align_content": null,
            "align_items": null,
            "align_self": null,
            "border": null,
            "bottom": null,
            "display": null,
            "flex": null,
            "flex_flow": null,
            "grid_area": null,
            "grid_auto_columns": null,
            "grid_auto_flow": null,
            "grid_auto_rows": null,
            "grid_column": null,
            "grid_gap": null,
            "grid_row": null,
            "grid_template_areas": null,
            "grid_template_columns": null,
            "grid_template_rows": null,
            "height": null,
            "justify_content": null,
            "justify_items": null,
            "left": null,
            "margin": null,
            "max_height": null,
            "max_width": null,
            "min_height": null,
            "min_width": null,
            "object_fit": null,
            "object_position": null,
            "order": null,
            "overflow": null,
            "overflow_x": null,
            "overflow_y": null,
            "padding": null,
            "right": null,
            "top": null,
            "visibility": null,
            "width": null
          }
        },
        "479ca28208cf48fc90f26f8dfa1b09c6": {
          "model_module": "@jupyter-widgets/controls",
          "model_name": "DescriptionStyleModel",
          "model_module_version": "1.5.0",
          "state": {
            "_model_module": "@jupyter-widgets/controls",
            "_model_module_version": "1.5.0",
            "_model_name": "DescriptionStyleModel",
            "_view_count": null,
            "_view_module": "@jupyter-widgets/base",
            "_view_module_version": "1.2.0",
            "_view_name": "StyleView",
            "description_width": ""
          }
        },
        "a923c9a59b1e4ccf9f3cdb76d5be624e": {
          "model_module": "@jupyter-widgets/base",
          "model_name": "LayoutModel",
          "model_module_version": "1.2.0",
          "state": {
            "_model_module": "@jupyter-widgets/base",
            "_model_module_version": "1.2.0",
            "_model_name": "LayoutModel",
            "_view_count": null,
            "_view_module": "@jupyter-widgets/base",
            "_view_module_version": "1.2.0",
            "_view_name": "LayoutView",
            "align_content": null,
            "align_items": null,
            "align_self": null,
            "border": null,
            "bottom": null,
            "display": null,
            "flex": null,
            "flex_flow": null,
            "grid_area": null,
            "grid_auto_columns": null,
            "grid_auto_flow": null,
            "grid_auto_rows": null,
            "grid_column": null,
            "grid_gap": null,
            "grid_row": null,
            "grid_template_areas": null,
            "grid_template_columns": null,
            "grid_template_rows": null,
            "height": null,
            "justify_content": null,
            "justify_items": null,
            "left": null,
            "margin": null,
            "max_height": null,
            "max_width": null,
            "min_height": null,
            "min_width": null,
            "object_fit": null,
            "object_position": null,
            "order": null,
            "overflow": null,
            "overflow_x": null,
            "overflow_y": null,
            "padding": null,
            "right": null,
            "top": null,
            "visibility": null,
            "width": null
          }
        },
        "54bbe557af2f4134b6eeeeb7ad14f7a3": {
          "model_module": "@jupyter-widgets/controls",
          "model_name": "DescriptionStyleModel",
          "model_module_version": "1.5.0",
          "state": {
            "_model_module": "@jupyter-widgets/controls",
            "_model_module_version": "1.5.0",
            "_model_name": "DescriptionStyleModel",
            "_view_count": null,
            "_view_module": "@jupyter-widgets/base",
            "_view_module_version": "1.2.0",
            "_view_name": "StyleView",
            "description_width": ""
          }
        },
        "bc933c0d56044b038d42ad39e8be7b45": {
          "model_module": "@jupyter-widgets/base",
          "model_name": "LayoutModel",
          "model_module_version": "1.2.0",
          "state": {
            "_model_module": "@jupyter-widgets/base",
            "_model_module_version": "1.2.0",
            "_model_name": "LayoutModel",
            "_view_count": null,
            "_view_module": "@jupyter-widgets/base",
            "_view_module_version": "1.2.0",
            "_view_name": "LayoutView",
            "align_content": null,
            "align_items": null,
            "align_self": null,
            "border": null,
            "bottom": null,
            "display": null,
            "flex": null,
            "flex_flow": null,
            "grid_area": null,
            "grid_auto_columns": null,
            "grid_auto_flow": null,
            "grid_auto_rows": null,
            "grid_column": null,
            "grid_gap": null,
            "grid_row": null,
            "grid_template_areas": null,
            "grid_template_columns": null,
            "grid_template_rows": null,
            "height": null,
            "justify_content": null,
            "justify_items": null,
            "left": null,
            "margin": null,
            "max_height": null,
            "max_width": null,
            "min_height": null,
            "min_width": null,
            "object_fit": null,
            "object_position": null,
            "order": null,
            "overflow": null,
            "overflow_x": null,
            "overflow_y": null,
            "padding": null,
            "right": null,
            "top": null,
            "visibility": null,
            "width": null
          }
        },
        "2e180b41f2d247009089e54b6370e1a1": {
          "model_module": "@jupyter-widgets/controls",
          "model_name": "DescriptionStyleModel",
          "model_module_version": "1.5.0",
          "state": {
            "_model_module": "@jupyter-widgets/controls",
            "_model_module_version": "1.5.0",
            "_model_name": "DescriptionStyleModel",
            "_view_count": null,
            "_view_module": "@jupyter-widgets/base",
            "_view_module_version": "1.2.0",
            "_view_name": "StyleView",
            "description_width": ""
          }
        },
        "bf5131386bb342d6bce83021195e9ac7": {
          "model_module": "@jupyter-widgets/base",
          "model_name": "LayoutModel",
          "model_module_version": "1.2.0",
          "state": {
            "_model_module": "@jupyter-widgets/base",
            "_model_module_version": "1.2.0",
            "_model_name": "LayoutModel",
            "_view_count": null,
            "_view_module": "@jupyter-widgets/base",
            "_view_module_version": "1.2.0",
            "_view_name": "LayoutView",
            "align_content": null,
            "align_items": null,
            "align_self": null,
            "border": null,
            "bottom": null,
            "display": null,
            "flex": null,
            "flex_flow": null,
            "grid_area": null,
            "grid_auto_columns": null,
            "grid_auto_flow": null,
            "grid_auto_rows": null,
            "grid_column": null,
            "grid_gap": null,
            "grid_row": null,
            "grid_template_areas": null,
            "grid_template_columns": null,
            "grid_template_rows": null,
            "height": null,
            "justify_content": null,
            "justify_items": null,
            "left": null,
            "margin": null,
            "max_height": null,
            "max_width": null,
            "min_height": null,
            "min_width": null,
            "object_fit": null,
            "object_position": null,
            "order": null,
            "overflow": null,
            "overflow_x": null,
            "overflow_y": null,
            "padding": null,
            "right": null,
            "top": null,
            "visibility": null,
            "width": null
          }
        },
        "fc03b4e3ac874ad889b759f8a152a5df": {
          "model_module": "@jupyter-widgets/controls",
          "model_name": "ButtonStyleModel",
          "model_module_version": "1.5.0",
          "state": {
            "_model_module": "@jupyter-widgets/controls",
            "_model_module_version": "1.5.0",
            "_model_name": "ButtonStyleModel",
            "_view_count": null,
            "_view_module": "@jupyter-widgets/base",
            "_view_module_version": "1.2.0",
            "_view_name": "StyleView",
            "button_color": null,
            "font_weight": ""
          }
        },
        "e5334653819e4d33a75946f107df56ff": {
          "model_module": "@jupyter-widgets/base",
          "model_name": "LayoutModel",
          "model_module_version": "1.2.0",
          "state": {
            "_model_module": "@jupyter-widgets/base",
            "_model_module_version": "1.2.0",
            "_model_name": "LayoutModel",
            "_view_count": null,
            "_view_module": "@jupyter-widgets/base",
            "_view_module_version": "1.2.0",
            "_view_name": "LayoutView",
            "align_content": null,
            "align_items": null,
            "align_self": null,
            "border": null,
            "bottom": null,
            "display": null,
            "flex": null,
            "flex_flow": null,
            "grid_area": null,
            "grid_auto_columns": null,
            "grid_auto_flow": null,
            "grid_auto_rows": null,
            "grid_column": null,
            "grid_gap": null,
            "grid_row": null,
            "grid_template_areas": null,
            "grid_template_columns": null,
            "grid_template_rows": null,
            "height": null,
            "justify_content": null,
            "justify_items": null,
            "left": null,
            "margin": null,
            "max_height": null,
            "max_width": null,
            "min_height": null,
            "min_width": null,
            "object_fit": null,
            "object_position": null,
            "order": null,
            "overflow": null,
            "overflow_x": null,
            "overflow_y": null,
            "padding": null,
            "right": null,
            "top": null,
            "visibility": null,
            "width": null
          }
        },
        "c34032b87a0047dbb91482518c0f1547": {
          "model_module": "@jupyter-widgets/controls",
          "model_name": "DescriptionStyleModel",
          "model_module_version": "1.5.0",
          "state": {
            "_model_module": "@jupyter-widgets/controls",
            "_model_module_version": "1.5.0",
            "_model_name": "DescriptionStyleModel",
            "_view_count": null,
            "_view_module": "@jupyter-widgets/base",
            "_view_module_version": "1.2.0",
            "_view_name": "StyleView",
            "description_width": ""
          }
        },
        "d85a0ad9d33f47d7994f84c5617b6104": {
          "model_module": "@jupyter-widgets/controls",
          "model_name": "LabelModel",
          "model_module_version": "1.5.0",
          "state": {
            "_dom_classes": [],
            "_model_module": "@jupyter-widgets/controls",
            "_model_module_version": "1.5.0",
            "_model_name": "LabelModel",
            "_view_count": null,
            "_view_module": "@jupyter-widgets/controls",
            "_view_module_version": "1.5.0",
            "_view_name": "LabelView",
            "description": "",
            "description_tooltip": null,
            "layout": "IPY_MODEL_fe5b09a14c7f474b95b2efe61613bc65",
            "placeholder": "​",
            "style": "IPY_MODEL_9a868cdcfbed4e7e91f62cc0ed175bed",
            "value": "Connecting..."
          }
        },
        "fe5b09a14c7f474b95b2efe61613bc65": {
          "model_module": "@jupyter-widgets/base",
          "model_name": "LayoutModel",
          "model_module_version": "1.2.0",
          "state": {
            "_model_module": "@jupyter-widgets/base",
            "_model_module_version": "1.2.0",
            "_model_name": "LayoutModel",
            "_view_count": null,
            "_view_module": "@jupyter-widgets/base",
            "_view_module_version": "1.2.0",
            "_view_name": "LayoutView",
            "align_content": null,
            "align_items": null,
            "align_self": null,
            "border": null,
            "bottom": null,
            "display": null,
            "flex": null,
            "flex_flow": null,
            "grid_area": null,
            "grid_auto_columns": null,
            "grid_auto_flow": null,
            "grid_auto_rows": null,
            "grid_column": null,
            "grid_gap": null,
            "grid_row": null,
            "grid_template_areas": null,
            "grid_template_columns": null,
            "grid_template_rows": null,
            "height": null,
            "justify_content": null,
            "justify_items": null,
            "left": null,
            "margin": null,
            "max_height": null,
            "max_width": null,
            "min_height": null,
            "min_width": null,
            "object_fit": null,
            "object_position": null,
            "order": null,
            "overflow": null,
            "overflow_x": null,
            "overflow_y": null,
            "padding": null,
            "right": null,
            "top": null,
            "visibility": null,
            "width": null
          }
        },
        "9a868cdcfbed4e7e91f62cc0ed175bed": {
          "model_module": "@jupyter-widgets/controls",
          "model_name": "DescriptionStyleModel",
          "model_module_version": "1.5.0",
          "state": {
            "_model_module": "@jupyter-widgets/controls",
            "_model_module_version": "1.5.0",
            "_model_name": "DescriptionStyleModel",
            "_view_count": null,
            "_view_module": "@jupyter-widgets/base",
            "_view_module_version": "1.2.0",
            "_view_name": "StyleView",
            "description_width": ""
          }
        },
        "4c9ca0735d0e4fd7bc47ba649b026bfa": {
          "model_module": "@jupyter-widgets/controls",
          "model_name": "LabelModel",
          "model_module_version": "1.5.0",
          "state": {
            "_dom_classes": [],
            "_model_module": "@jupyter-widgets/controls",
            "_model_module_version": "1.5.0",
            "_model_name": "LabelModel",
            "_view_count": null,
            "_view_module": "@jupyter-widgets/controls",
            "_view_module_version": "1.5.0",
            "_view_name": "LabelView",
            "description": "",
            "description_tooltip": null,
            "layout": "IPY_MODEL_e065ea6848274fdc9538be7cc0d7f169",
            "placeholder": "​",
            "style": "IPY_MODEL_5ad6b025985b449c83c409d9a93a1f56",
            "value": "Token is valid (permission: write)."
          }
        },
        "c744c84d5a2b48118714a79dbe328b3d": {
          "model_module": "@jupyter-widgets/controls",
          "model_name": "LabelModel",
          "model_module_version": "1.5.0",
          "state": {
            "_dom_classes": [],
            "_model_module": "@jupyter-widgets/controls",
            "_model_module_version": "1.5.0",
            "_model_name": "LabelModel",
            "_view_count": null,
            "_view_module": "@jupyter-widgets/controls",
            "_view_module_version": "1.5.0",
            "_view_name": "LabelView",
            "description": "",
            "description_tooltip": null,
            "layout": "IPY_MODEL_8eee2e9f7f8e4d7e9b19e513bc0749a3",
            "placeholder": "​",
            "style": "IPY_MODEL_7bbb9152f1d04930b991ee4a51394784",
            "value": "Your token has been saved in your configured git credential helpers (store)."
          }
        },
        "5df81bb827094be1b4615a8c74517719": {
          "model_module": "@jupyter-widgets/controls",
          "model_name": "LabelModel",
          "model_module_version": "1.5.0",
          "state": {
            "_dom_classes": [],
            "_model_module": "@jupyter-widgets/controls",
            "_model_module_version": "1.5.0",
            "_model_name": "LabelModel",
            "_view_count": null,
            "_view_module": "@jupyter-widgets/controls",
            "_view_module_version": "1.5.0",
            "_view_name": "LabelView",
            "description": "",
            "description_tooltip": null,
            "layout": "IPY_MODEL_c46e5b2103104b23baeda821c6c9bfdc",
            "placeholder": "​",
            "style": "IPY_MODEL_b6593d22935e47aa997b90098314add6",
            "value": "Your token has been saved to /root/.cache/huggingface/token"
          }
        },
        "29496eed9074417183cf0d8fc171a614": {
          "model_module": "@jupyter-widgets/controls",
          "model_name": "LabelModel",
          "model_module_version": "1.5.0",
          "state": {
            "_dom_classes": [],
            "_model_module": "@jupyter-widgets/controls",
            "_model_module_version": "1.5.0",
            "_model_name": "LabelModel",
            "_view_count": null,
            "_view_module": "@jupyter-widgets/controls",
            "_view_module_version": "1.5.0",
            "_view_name": "LabelView",
            "description": "",
            "description_tooltip": null,
            "layout": "IPY_MODEL_03778f4f729e4cc3b4fe3e7e3f83bc69",
            "placeholder": "​",
            "style": "IPY_MODEL_f5cc399c05da4a3e870e5a4b57b12167",
            "value": "Login successful"
          }
        },
        "e065ea6848274fdc9538be7cc0d7f169": {
          "model_module": "@jupyter-widgets/base",
          "model_name": "LayoutModel",
          "model_module_version": "1.2.0",
          "state": {
            "_model_module": "@jupyter-widgets/base",
            "_model_module_version": "1.2.0",
            "_model_name": "LayoutModel",
            "_view_count": null,
            "_view_module": "@jupyter-widgets/base",
            "_view_module_version": "1.2.0",
            "_view_name": "LayoutView",
            "align_content": null,
            "align_items": null,
            "align_self": null,
            "border": null,
            "bottom": null,
            "display": null,
            "flex": null,
            "flex_flow": null,
            "grid_area": null,
            "grid_auto_columns": null,
            "grid_auto_flow": null,
            "grid_auto_rows": null,
            "grid_column": null,
            "grid_gap": null,
            "grid_row": null,
            "grid_template_areas": null,
            "grid_template_columns": null,
            "grid_template_rows": null,
            "height": null,
            "justify_content": null,
            "justify_items": null,
            "left": null,
            "margin": null,
            "max_height": null,
            "max_width": null,
            "min_height": null,
            "min_width": null,
            "object_fit": null,
            "object_position": null,
            "order": null,
            "overflow": null,
            "overflow_x": null,
            "overflow_y": null,
            "padding": null,
            "right": null,
            "top": null,
            "visibility": null,
            "width": null
          }
        },
        "5ad6b025985b449c83c409d9a93a1f56": {
          "model_module": "@jupyter-widgets/controls",
          "model_name": "DescriptionStyleModel",
          "model_module_version": "1.5.0",
          "state": {
            "_model_module": "@jupyter-widgets/controls",
            "_model_module_version": "1.5.0",
            "_model_name": "DescriptionStyleModel",
            "_view_count": null,
            "_view_module": "@jupyter-widgets/base",
            "_view_module_version": "1.2.0",
            "_view_name": "StyleView",
            "description_width": ""
          }
        },
        "8eee2e9f7f8e4d7e9b19e513bc0749a3": {
          "model_module": "@jupyter-widgets/base",
          "model_name": "LayoutModel",
          "model_module_version": "1.2.0",
          "state": {
            "_model_module": "@jupyter-widgets/base",
            "_model_module_version": "1.2.0",
            "_model_name": "LayoutModel",
            "_view_count": null,
            "_view_module": "@jupyter-widgets/base",
            "_view_module_version": "1.2.0",
            "_view_name": "LayoutView",
            "align_content": null,
            "align_items": null,
            "align_self": null,
            "border": null,
            "bottom": null,
            "display": null,
            "flex": null,
            "flex_flow": null,
            "grid_area": null,
            "grid_auto_columns": null,
            "grid_auto_flow": null,
            "grid_auto_rows": null,
            "grid_column": null,
            "grid_gap": null,
            "grid_row": null,
            "grid_template_areas": null,
            "grid_template_columns": null,
            "grid_template_rows": null,
            "height": null,
            "justify_content": null,
            "justify_items": null,
            "left": null,
            "margin": null,
            "max_height": null,
            "max_width": null,
            "min_height": null,
            "min_width": null,
            "object_fit": null,
            "object_position": null,
            "order": null,
            "overflow": null,
            "overflow_x": null,
            "overflow_y": null,
            "padding": null,
            "right": null,
            "top": null,
            "visibility": null,
            "width": null
          }
        },
        "7bbb9152f1d04930b991ee4a51394784": {
          "model_module": "@jupyter-widgets/controls",
          "model_name": "DescriptionStyleModel",
          "model_module_version": "1.5.0",
          "state": {
            "_model_module": "@jupyter-widgets/controls",
            "_model_module_version": "1.5.0",
            "_model_name": "DescriptionStyleModel",
            "_view_count": null,
            "_view_module": "@jupyter-widgets/base",
            "_view_module_version": "1.2.0",
            "_view_name": "StyleView",
            "description_width": ""
          }
        },
        "c46e5b2103104b23baeda821c6c9bfdc": {
          "model_module": "@jupyter-widgets/base",
          "model_name": "LayoutModel",
          "model_module_version": "1.2.0",
          "state": {
            "_model_module": "@jupyter-widgets/base",
            "_model_module_version": "1.2.0",
            "_model_name": "LayoutModel",
            "_view_count": null,
            "_view_module": "@jupyter-widgets/base",
            "_view_module_version": "1.2.0",
            "_view_name": "LayoutView",
            "align_content": null,
            "align_items": null,
            "align_self": null,
            "border": null,
            "bottom": null,
            "display": null,
            "flex": null,
            "flex_flow": null,
            "grid_area": null,
            "grid_auto_columns": null,
            "grid_auto_flow": null,
            "grid_auto_rows": null,
            "grid_column": null,
            "grid_gap": null,
            "grid_row": null,
            "grid_template_areas": null,
            "grid_template_columns": null,
            "grid_template_rows": null,
            "height": null,
            "justify_content": null,
            "justify_items": null,
            "left": null,
            "margin": null,
            "max_height": null,
            "max_width": null,
            "min_height": null,
            "min_width": null,
            "object_fit": null,
            "object_position": null,
            "order": null,
            "overflow": null,
            "overflow_x": null,
            "overflow_y": null,
            "padding": null,
            "right": null,
            "top": null,
            "visibility": null,
            "width": null
          }
        },
        "b6593d22935e47aa997b90098314add6": {
          "model_module": "@jupyter-widgets/controls",
          "model_name": "DescriptionStyleModel",
          "model_module_version": "1.5.0",
          "state": {
            "_model_module": "@jupyter-widgets/controls",
            "_model_module_version": "1.5.0",
            "_model_name": "DescriptionStyleModel",
            "_view_count": null,
            "_view_module": "@jupyter-widgets/base",
            "_view_module_version": "1.2.0",
            "_view_name": "StyleView",
            "description_width": ""
          }
        },
        "03778f4f729e4cc3b4fe3e7e3f83bc69": {
          "model_module": "@jupyter-widgets/base",
          "model_name": "LayoutModel",
          "model_module_version": "1.2.0",
          "state": {
            "_model_module": "@jupyter-widgets/base",
            "_model_module_version": "1.2.0",
            "_model_name": "LayoutModel",
            "_view_count": null,
            "_view_module": "@jupyter-widgets/base",
            "_view_module_version": "1.2.0",
            "_view_name": "LayoutView",
            "align_content": null,
            "align_items": null,
            "align_self": null,
            "border": null,
            "bottom": null,
            "display": null,
            "flex": null,
            "flex_flow": null,
            "grid_area": null,
            "grid_auto_columns": null,
            "grid_auto_flow": null,
            "grid_auto_rows": null,
            "grid_column": null,
            "grid_gap": null,
            "grid_row": null,
            "grid_template_areas": null,
            "grid_template_columns": null,
            "grid_template_rows": null,
            "height": null,
            "justify_content": null,
            "justify_items": null,
            "left": null,
            "margin": null,
            "max_height": null,
            "max_width": null,
            "min_height": null,
            "min_width": null,
            "object_fit": null,
            "object_position": null,
            "order": null,
            "overflow": null,
            "overflow_x": null,
            "overflow_y": null,
            "padding": null,
            "right": null,
            "top": null,
            "visibility": null,
            "width": null
          }
        },
        "f5cc399c05da4a3e870e5a4b57b12167": {
          "model_module": "@jupyter-widgets/controls",
          "model_name": "DescriptionStyleModel",
          "model_module_version": "1.5.0",
          "state": {
            "_model_module": "@jupyter-widgets/controls",
            "_model_module_version": "1.5.0",
            "_model_name": "DescriptionStyleModel",
            "_view_count": null,
            "_view_module": "@jupyter-widgets/base",
            "_view_module_version": "1.2.0",
            "_view_name": "StyleView",
            "description_width": ""
          }
        },
        "e726703701704ff2b866819175e0251f": {
          "model_module": "@jupyter-widgets/controls",
          "model_name": "HBoxModel",
          "model_module_version": "1.5.0",
          "state": {
            "_dom_classes": [],
            "_model_module": "@jupyter-widgets/controls",
            "_model_module_version": "1.5.0",
            "_model_name": "HBoxModel",
            "_view_count": null,
            "_view_module": "@jupyter-widgets/controls",
            "_view_module_version": "1.5.0",
            "_view_name": "HBoxView",
            "box_style": "",
            "children": [
              "IPY_MODEL_cfb1af2ee4854d609f230a79d3e232a9",
              "IPY_MODEL_928f6158ef8645919180dfc0042e8405",
              "IPY_MODEL_600d1e8e7506469980bde93a0c195643"
            ],
            "layout": "IPY_MODEL_8b2bf0d63d564978acfb52f226fbaba7"
          }
        },
        "cfb1af2ee4854d609f230a79d3e232a9": {
          "model_module": "@jupyter-widgets/controls",
          "model_name": "HTMLModel",
          "model_module_version": "1.5.0",
          "state": {
            "_dom_classes": [],
            "_model_module": "@jupyter-widgets/controls",
            "_model_module_version": "1.5.0",
            "_model_name": "HTMLModel",
            "_view_count": null,
            "_view_module": "@jupyter-widgets/controls",
            "_view_module_version": "1.5.0",
            "_view_name": "HTMLView",
            "description": "",
            "description_tooltip": null,
            "layout": "IPY_MODEL_02c39b9c1d26428e96737678ceb40869",
            "placeholder": "​",
            "style": "IPY_MODEL_3009c199d44f4303860368fa94d09e3c",
            "value": "pytorch_model.bin: 100%"
          }
        },
        "928f6158ef8645919180dfc0042e8405": {
          "model_module": "@jupyter-widgets/controls",
          "model_name": "FloatProgressModel",
          "model_module_version": "1.5.0",
          "state": {
            "_dom_classes": [],
            "_model_module": "@jupyter-widgets/controls",
            "_model_module_version": "1.5.0",
            "_model_name": "FloatProgressModel",
            "_view_count": null,
            "_view_module": "@jupyter-widgets/controls",
            "_view_module_version": "1.5.0",
            "_view_name": "ProgressView",
            "bar_style": "success",
            "description": "",
            "description_tooltip": null,
            "layout": "IPY_MODEL_595fd702daff4f4a8e948939c4f10e7f",
            "max": 438005109,
            "min": 0,
            "orientation": "horizontal",
            "style": "IPY_MODEL_afd70699c5aa49a4803bdc0874515195",
            "value": 438005109
          }
        },
        "600d1e8e7506469980bde93a0c195643": {
          "model_module": "@jupyter-widgets/controls",
          "model_name": "HTMLModel",
          "model_module_version": "1.5.0",
          "state": {
            "_dom_classes": [],
            "_model_module": "@jupyter-widgets/controls",
            "_model_module_version": "1.5.0",
            "_model_name": "HTMLModel",
            "_view_count": null,
            "_view_module": "@jupyter-widgets/controls",
            "_view_module_version": "1.5.0",
            "_view_name": "HTMLView",
            "description": "",
            "description_tooltip": null,
            "layout": "IPY_MODEL_ae1700e6173340558ad0dd0e0e15e4b6",
            "placeholder": "​",
            "style": "IPY_MODEL_0813abea3520424382610bdd61319106",
            "value": " 438M/438M [00:17&lt;00:00, 27.9MB/s]"
          }
        },
        "8b2bf0d63d564978acfb52f226fbaba7": {
          "model_module": "@jupyter-widgets/base",
          "model_name": "LayoutModel",
          "model_module_version": "1.2.0",
          "state": {
            "_model_module": "@jupyter-widgets/base",
            "_model_module_version": "1.2.0",
            "_model_name": "LayoutModel",
            "_view_count": null,
            "_view_module": "@jupyter-widgets/base",
            "_view_module_version": "1.2.0",
            "_view_name": "LayoutView",
            "align_content": null,
            "align_items": null,
            "align_self": null,
            "border": null,
            "bottom": null,
            "display": null,
            "flex": null,
            "flex_flow": null,
            "grid_area": null,
            "grid_auto_columns": null,
            "grid_auto_flow": null,
            "grid_auto_rows": null,
            "grid_column": null,
            "grid_gap": null,
            "grid_row": null,
            "grid_template_areas": null,
            "grid_template_columns": null,
            "grid_template_rows": null,
            "height": null,
            "justify_content": null,
            "justify_items": null,
            "left": null,
            "margin": null,
            "max_height": null,
            "max_width": null,
            "min_height": null,
            "min_width": null,
            "object_fit": null,
            "object_position": null,
            "order": null,
            "overflow": null,
            "overflow_x": null,
            "overflow_y": null,
            "padding": null,
            "right": null,
            "top": null,
            "visibility": null,
            "width": null
          }
        },
        "02c39b9c1d26428e96737678ceb40869": {
          "model_module": "@jupyter-widgets/base",
          "model_name": "LayoutModel",
          "model_module_version": "1.2.0",
          "state": {
            "_model_module": "@jupyter-widgets/base",
            "_model_module_version": "1.2.0",
            "_model_name": "LayoutModel",
            "_view_count": null,
            "_view_module": "@jupyter-widgets/base",
            "_view_module_version": "1.2.0",
            "_view_name": "LayoutView",
            "align_content": null,
            "align_items": null,
            "align_self": null,
            "border": null,
            "bottom": null,
            "display": null,
            "flex": null,
            "flex_flow": null,
            "grid_area": null,
            "grid_auto_columns": null,
            "grid_auto_flow": null,
            "grid_auto_rows": null,
            "grid_column": null,
            "grid_gap": null,
            "grid_row": null,
            "grid_template_areas": null,
            "grid_template_columns": null,
            "grid_template_rows": null,
            "height": null,
            "justify_content": null,
            "justify_items": null,
            "left": null,
            "margin": null,
            "max_height": null,
            "max_width": null,
            "min_height": null,
            "min_width": null,
            "object_fit": null,
            "object_position": null,
            "order": null,
            "overflow": null,
            "overflow_x": null,
            "overflow_y": null,
            "padding": null,
            "right": null,
            "top": null,
            "visibility": null,
            "width": null
          }
        },
        "3009c199d44f4303860368fa94d09e3c": {
          "model_module": "@jupyter-widgets/controls",
          "model_name": "DescriptionStyleModel",
          "model_module_version": "1.5.0",
          "state": {
            "_model_module": "@jupyter-widgets/controls",
            "_model_module_version": "1.5.0",
            "_model_name": "DescriptionStyleModel",
            "_view_count": null,
            "_view_module": "@jupyter-widgets/base",
            "_view_module_version": "1.2.0",
            "_view_name": "StyleView",
            "description_width": ""
          }
        },
        "595fd702daff4f4a8e948939c4f10e7f": {
          "model_module": "@jupyter-widgets/base",
          "model_name": "LayoutModel",
          "model_module_version": "1.2.0",
          "state": {
            "_model_module": "@jupyter-widgets/base",
            "_model_module_version": "1.2.0",
            "_model_name": "LayoutModel",
            "_view_count": null,
            "_view_module": "@jupyter-widgets/base",
            "_view_module_version": "1.2.0",
            "_view_name": "LayoutView",
            "align_content": null,
            "align_items": null,
            "align_self": null,
            "border": null,
            "bottom": null,
            "display": null,
            "flex": null,
            "flex_flow": null,
            "grid_area": null,
            "grid_auto_columns": null,
            "grid_auto_flow": null,
            "grid_auto_rows": null,
            "grid_column": null,
            "grid_gap": null,
            "grid_row": null,
            "grid_template_areas": null,
            "grid_template_columns": null,
            "grid_template_rows": null,
            "height": null,
            "justify_content": null,
            "justify_items": null,
            "left": null,
            "margin": null,
            "max_height": null,
            "max_width": null,
            "min_height": null,
            "min_width": null,
            "object_fit": null,
            "object_position": null,
            "order": null,
            "overflow": null,
            "overflow_x": null,
            "overflow_y": null,
            "padding": null,
            "right": null,
            "top": null,
            "visibility": null,
            "width": null
          }
        },
        "afd70699c5aa49a4803bdc0874515195": {
          "model_module": "@jupyter-widgets/controls",
          "model_name": "ProgressStyleModel",
          "model_module_version": "1.5.0",
          "state": {
            "_model_module": "@jupyter-widgets/controls",
            "_model_module_version": "1.5.0",
            "_model_name": "ProgressStyleModel",
            "_view_count": null,
            "_view_module": "@jupyter-widgets/base",
            "_view_module_version": "1.2.0",
            "_view_name": "StyleView",
            "bar_color": null,
            "description_width": ""
          }
        },
        "ae1700e6173340558ad0dd0e0e15e4b6": {
          "model_module": "@jupyter-widgets/base",
          "model_name": "LayoutModel",
          "model_module_version": "1.2.0",
          "state": {
            "_model_module": "@jupyter-widgets/base",
            "_model_module_version": "1.2.0",
            "_model_name": "LayoutModel",
            "_view_count": null,
            "_view_module": "@jupyter-widgets/base",
            "_view_module_version": "1.2.0",
            "_view_name": "LayoutView",
            "align_content": null,
            "align_items": null,
            "align_self": null,
            "border": null,
            "bottom": null,
            "display": null,
            "flex": null,
            "flex_flow": null,
            "grid_area": null,
            "grid_auto_columns": null,
            "grid_auto_flow": null,
            "grid_auto_rows": null,
            "grid_column": null,
            "grid_gap": null,
            "grid_row": null,
            "grid_template_areas": null,
            "grid_template_columns": null,
            "grid_template_rows": null,
            "height": null,
            "justify_content": null,
            "justify_items": null,
            "left": null,
            "margin": null,
            "max_height": null,
            "max_width": null,
            "min_height": null,
            "min_width": null,
            "object_fit": null,
            "object_position": null,
            "order": null,
            "overflow": null,
            "overflow_x": null,
            "overflow_y": null,
            "padding": null,
            "right": null,
            "top": null,
            "visibility": null,
            "width": null
          }
        },
        "0813abea3520424382610bdd61319106": {
          "model_module": "@jupyter-widgets/controls",
          "model_name": "DescriptionStyleModel",
          "model_module_version": "1.5.0",
          "state": {
            "_model_module": "@jupyter-widgets/controls",
            "_model_module_version": "1.5.0",
            "_model_name": "DescriptionStyleModel",
            "_view_count": null,
            "_view_module": "@jupyter-widgets/base",
            "_view_module_version": "1.2.0",
            "_view_name": "StyleView",
            "description_width": ""
          }
        }
      }
    }
  },
  "nbformat": 4,
  "nbformat_minor": 0
}